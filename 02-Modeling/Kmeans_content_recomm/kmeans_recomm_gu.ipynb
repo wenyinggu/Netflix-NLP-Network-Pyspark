{
  "nbformat": 4,
  "nbformat_minor": 0,
  "metadata": {
    "colab": {
      "name": "kmeans_recomm_gu.ipynb",
      "provenance": [],
      "collapsed_sections": [],
      "machine_shape": "hm"
    },
    "kernelspec": {
      "name": "python3",
      "display_name": "Python 3"
    },
    "language_info": {
      "name": "python"
    }
  },
  "cells": [
    {
      "cell_type": "code",
      "metadata": {
        "colab": {
          "base_uri": "https://localhost:8080/"
        },
        "id": "_l9MW6De2WJ0",
        "outputId": "86b26f28-46eb-4d44-f4f6-dbdba4c26cbc"
      },
      "source": [
        "from pydrive.auth import GoogleAuth\n",
        "from pydrive.drive import GoogleDrive\n",
        "from google.colab import auth\n",
        "from oauth2client.client import GoogleCredentials\n",
        "\n",
        "from google.colab import drive\n",
        "drive.mount('/content/drive')\n",
        "import os\n",
        "os.chdir('/content/drive/My Drive/bigdata/project')"
      ],
      "execution_count": null,
      "outputs": [
        {
          "output_type": "stream",
          "text": [
            "Drive already mounted at /content/drive; to attempt to forcibly remount, call drive.mount(\"/content/drive\", force_remount=True).\n"
          ],
          "name": "stdout"
        }
      ]
    },
    {
      "cell_type": "code",
      "metadata": {
        "colab": {
          "base_uri": "https://localhost:8080/"
        },
        "id": "ykYOlg2t-QPy",
        "outputId": "0cf6d3aa-0a73-405c-ff11-9ed1f58743f8"
      },
      "source": [
        "!pip install pyspark \n",
        "!pip install -U -q PyDrive\n",
        "!apt install openjdk-8-jdk-headless -qq\n",
        "import os\n",
        "os.environ[\"JAVA_HOME\"] = \"/usr/lib/jvm/java-8-openjdk-amd64\""
      ],
      "execution_count": null,
      "outputs": [
        {
          "output_type": "stream",
          "text": [
            "Requirement already satisfied: pyspark in /usr/local/lib/python3.7/dist-packages (3.1.1)\n",
            "Requirement already satisfied: py4j==0.10.9 in /usr/local/lib/python3.7/dist-packages (from pyspark) (0.10.9)\n",
            "openjdk-8-jdk-headless is already the newest version (8u282-b08-0ubuntu1~18.04).\n",
            "The following package was automatically installed and is no longer required:\n",
            "  libnvidia-common-460\n",
            "Use 'apt autoremove' to remove it.\n",
            "0 upgraded, 0 newly installed, 0 to remove and 34 not upgraded.\n"
          ],
          "name": "stdout"
        }
      ]
    },
    {
      "cell_type": "code",
      "metadata": {
        "id": "hcHJgg_b-l3k"
      },
      "source": [
        "import pandas as pd\n",
        "import numpy as np\n",
        "import matplotlib.pyplot as plt\n",
        "%matplotlib inline\n",
        "\n",
        "import pyspark\n",
        "from pyspark import SparkContext, SparkConf\n",
        "from pyspark.sql import SparkSession"
      ],
      "execution_count": null,
      "outputs": []
    },
    {
      "cell_type": "code",
      "metadata": {
        "id": "8U4D8yRw-tEU"
      },
      "source": [
        "# create the session\n",
        "conf = SparkConf().set(\"spark.project\", \"4050\")\n",
        "\n",
        "# create the context\n",
        "sc = pyspark.SparkContext(conf=conf)\n",
        "spark = SparkSession.builder.getOrCreate()"
      ],
      "execution_count": null,
      "outputs": []
    },
    {
      "cell_type": "code",
      "metadata": {
        "id": "BoKQvaMd-vJL"
      },
      "source": [
        "df = spark.read.csv('netflix_titles.txt',inferSchema =True, header=True,sep='\\t')"
      ],
      "execution_count": null,
      "outputs": []
    },
    {
      "cell_type": "code",
      "metadata": {
        "id": "kLz79hYRHPe6",
        "colab": {
          "base_uri": "https://localhost:8080/"
        },
        "outputId": "340e2304-0efa-4e98-b8d2-37e727db3a9b"
      },
      "source": [
        "df.printSchema()"
      ],
      "execution_count": null,
      "outputs": [
        {
          "output_type": "stream",
          "text": [
            "root\n",
            " |-- _c0: integer (nullable = true)\n",
            " |-- show_id: integer (nullable = true)\n",
            " |-- type: string (nullable = true)\n",
            " |-- title: string (nullable = true)\n",
            " |-- director: string (nullable = true)\n",
            " |-- cast: string (nullable = true)\n",
            " |-- country: string (nullable = true)\n",
            " |-- date_added: string (nullable = true)\n",
            " |-- release_year: integer (nullable = true)\n",
            " |-- rating: string (nullable = true)\n",
            " |-- duration: string (nullable = true)\n",
            " |-- listed_in: string (nullable = true)\n",
            " |-- description: string (nullable = true)\n",
            "\n"
          ],
          "name": "stdout"
        }
      ]
    },
    {
      "cell_type": "code",
      "metadata": {
        "id": "mAtxLQ2gHUZA",
        "colab": {
          "base_uri": "https://localhost:8080/"
        },
        "outputId": "f07a5c9e-5b7a-4dbc-95c7-9b93c6b323a3"
      },
      "source": [
        "df.show()"
      ],
      "execution_count": null,
      "outputs": [
        {
          "output_type": "stream",
          "text": [
            "+---+--------+-------+--------------------+--------------------+--------------------+--------------------+----------+------------+--------+--------+--------------------+--------------------+\n",
            "|_c0| show_id|   type|               title|            director|                cast|             country|date_added|release_year|  rating|duration|           listed_in|         description|\n",
            "+---+--------+-------+--------------------+--------------------+--------------------+--------------------+----------+------------+--------+--------+--------------------+--------------------+\n",
            "|  0|81145628|  Movie|Norm of the North...|Richard Finn, Tim...|Alan Marriott, An...|United States, In...|  9-Sep-19|        2019|   TV-PG|  90 min|Children & Family...|Before planning a...|\n",
            "|  1|80117401|  Movie|Jandino: Whatever...|                null|    Jandino Asporaat|      United Kingdom|  9-Sep-16|        2016|   TV-MA|  94 min|     Stand-Up Comedy|\"Jandino Asporaat...|\n",
            "|  2|70234439|TV Show|  Transformers Prime|                null|Peter Cullen, Sum...|       United States|  8-Sep-18|        2013|TV-Y7-FV|1 Season|            Kids' TV|With the help of ...|\n",
            "|  3|80058654|TV Show|Transformers: Rob...|                null|Will Friedle, Dar...|       United States|  8-Sep-18|        2016|   TV-Y7|1 Season|            Kids' TV|When a prison shi...|\n",
            "|  4|80125979|  Movie|        #realityhigh|    Fernando Lebrija|Nesta Cooper, Kat...|       United States|  8-Sep-17|        2017|   TV-14|  99 min|            Comedies|When nerdy high s...|\n",
            "|  5|80163890|TV Show|             Apaches|                null|Alberto Ammann, E...|               Spain|  8-Sep-17|        2016|   TV-MA|1 Season|Crime TV Shows, I...|A young journalis...|\n",
            "|  6|70304989|  Movie|            Automata|         Gabe Ibáñez|Antonio Banderas,...|Bulgaria, United ...|  8-Sep-17|        2014|       R| 110 min|International Mov...|In a dystopian fu...|\n",
            "|  7|80164077|  Movie|Fabrizio Copano: ...|Rodrigo Toro, Fra...|     Fabrizio Copano|               Chile|  8-Sep-17|        2017|   TV-MA|  60 min|     Stand-Up Comedy|Fabrizio Copano t...|\n",
            "|  8|80117902|TV Show|        Fire Chasers|                null|                null|       United States|  8-Sep-17|        2017|   TV-MA|1 Season|Docuseries, Scien...|As California's 2...|\n",
            "|  9|70304990|  Movie|         Good People|   Henrik Ruben Genz|James Franco, Kat...|United States, Un...|  8-Sep-17|        2014|       R|  90 min|Action & Adventur...|A struggling coup...|\n",
            "| 10|80169755|  Movie|Joaquín Reyes: Un...|José Miguel Contr...|       Joaquín Reyes|                null|  8-Sep-17|        2017|   TV-MA|  78 min|     Stand-Up Comedy|Comedian and cele...|\n",
            "| 11|70299204|  Movie|Kidnapping Mr. He...|    Daniel Alfredson|Jim Sturgess, Sam...|Netherlands, Belg...|  8-Sep-17|        2015|       R|  95 min|Action & Adventur...|\"When beer magnat...|\n",
            "| 12|80182480|  Movie|Krish Trish and B...|                null|Damandeep Singh B...|                null|  8-Sep-17|        2009|   TV-Y7|  58 min|Children & Family...|A team of minstre...|\n",
            "| 13|80182483|  Movie|Krish Trish and B...|Munjal Shroff, Ti...|Damandeep Singh B...|                null|  8-Sep-17|        2013|   TV-Y7|  62 min|Children & Family...|An artisan is che...|\n",
            "| 14|80182596|  Movie|Krish Trish and B...|Munjal Shroff, Ti...|Damandeep Singh B...|                null|  8-Sep-17|        2016|    TV-Y|  65 min|Children & Family...|A cat, monkey and...|\n",
            "| 15|80182482|  Movie|Krish Trish and B...|        Tilak Shetty|Damandeep Singh B...|                null|  8-Sep-17|        2012|   TV-Y7|  61 min|Children & Family...|In three comic-st...|\n",
            "| 16|80182597|  Movie|Krish Trish and B...|        Tilak Shetty|Rishi Gambhir, Sm...|                null|  8-Sep-17|        2017|   TV-Y7|  65 min|Children & Family...|A cat, monkey and...|\n",
            "| 17|80182481|  Movie|Krish Trish and B...|                null|Damandeep Singh B...|                null|  8-Sep-17|        2010|   TV-Y7|  58 min|Children & Family...|Animal minstrels ...|\n",
            "| 18|80182621|  Movie|Krish Trish and B...|Munjal Shroff, Ti...|Damandeep Singh B...|                null|  8-Sep-17|        2013|   TV-Y7|  60 min|Children & Family...|The consequences ...|\n",
            "| 19|80057969|  Movie|                Love|          Gaspar Noé|Karl Glusman, Kla...|     France, Belgium|  8-Sep-17|        2015|      NR| 135 min|Cult Movies, Dram...|A man in an unsat...|\n",
            "+---+--------+-------+--------------------+--------------------+--------------------+--------------------+----------+------------+--------+--------+--------------------+--------------------+\n",
            "only showing top 20 rows\n",
            "\n"
          ],
          "name": "stdout"
        }
      ]
    },
    {
      "cell_type": "code",
      "metadata": {
        "colab": {
          "base_uri": "https://localhost:8080/"
        },
        "id": "cI-oLGVY-i49",
        "outputId": "edf267c1-9c42-48a7-a663-8266ba2e5a99"
      },
      "source": [
        "c.isnull().sum()"
      ],
      "execution_count": null,
      "outputs": [
        {
          "output_type": "execute_result",
          "data": {
            "text/plain": [
              "_c0                0\n",
              "show_id            0\n",
              "type               0\n",
              "title              0\n",
              "director        1969\n",
              "cast             570\n",
              "country          476\n",
              "date_added        11\n",
              "release_year       0\n",
              "rating            10\n",
              "duration           0\n",
              "listed_in          0\n",
              "description        0\n",
              "dtype: int64"
            ]
          },
          "metadata": {
            "tags": []
          },
          "execution_count": 64
        }
      ]
    },
    {
      "cell_type": "code",
      "metadata": {
        "colab": {
          "base_uri": "https://localhost:8080/"
        },
        "id": "xzbkKysKBgw8",
        "outputId": "aac3e089-3e6c-4cdd-adea-98334ce04850"
      },
      "source": [
        "df=df.na.fill({'director': \"unknown\", 'cast': 'unknown','country': 'unknown','date_added': 'unknown','rating': 'unknown'})\n",
        "df.show()"
      ],
      "execution_count": null,
      "outputs": [
        {
          "output_type": "stream",
          "text": [
            "+---+--------+-------+--------------------+--------------------+--------------------+--------------------+----------+------------+--------+--------+--------------------+--------------------+\n",
            "|_c0| show_id|   type|               title|            director|                cast|             country|date_added|release_year|  rating|duration|           listed_in|         description|\n",
            "+---+--------+-------+--------------------+--------------------+--------------------+--------------------+----------+------------+--------+--------+--------------------+--------------------+\n",
            "|  0|81145628|  Movie|Norm of the North...|Richard Finn, Tim...|Alan Marriott, An...|United States, In...|  9-Sep-19|        2019|   TV-PG|  90 min|Children & Family...|Before planning a...|\n",
            "|  1|80117401|  Movie|Jandino: Whatever...|             unknown|    Jandino Asporaat|      United Kingdom|  9-Sep-16|        2016|   TV-MA|  94 min|     Stand-Up Comedy|\"Jandino Asporaat...|\n",
            "|  2|70234439|TV Show|  Transformers Prime|             unknown|Peter Cullen, Sum...|       United States|  8-Sep-18|        2013|TV-Y7-FV|1 Season|            Kids' TV|With the help of ...|\n",
            "|  3|80058654|TV Show|Transformers: Rob...|             unknown|Will Friedle, Dar...|       United States|  8-Sep-18|        2016|   TV-Y7|1 Season|            Kids' TV|When a prison shi...|\n",
            "|  4|80125979|  Movie|        #realityhigh|    Fernando Lebrija|Nesta Cooper, Kat...|       United States|  8-Sep-17|        2017|   TV-14|  99 min|            Comedies|When nerdy high s...|\n",
            "|  5|80163890|TV Show|             Apaches|             unknown|Alberto Ammann, E...|               Spain|  8-Sep-17|        2016|   TV-MA|1 Season|Crime TV Shows, I...|A young journalis...|\n",
            "|  6|70304989|  Movie|            Automata|         Gabe Ibáñez|Antonio Banderas,...|Bulgaria, United ...|  8-Sep-17|        2014|       R| 110 min|International Mov...|In a dystopian fu...|\n",
            "|  7|80164077|  Movie|Fabrizio Copano: ...|Rodrigo Toro, Fra...|     Fabrizio Copano|               Chile|  8-Sep-17|        2017|   TV-MA|  60 min|     Stand-Up Comedy|Fabrizio Copano t...|\n",
            "|  8|80117902|TV Show|        Fire Chasers|             unknown|             unknown|       United States|  8-Sep-17|        2017|   TV-MA|1 Season|Docuseries, Scien...|As California's 2...|\n",
            "|  9|70304990|  Movie|         Good People|   Henrik Ruben Genz|James Franco, Kat...|United States, Un...|  8-Sep-17|        2014|       R|  90 min|Action & Adventur...|A struggling coup...|\n",
            "| 10|80169755|  Movie|Joaquín Reyes: Un...|José Miguel Contr...|       Joaquín Reyes|             unknown|  8-Sep-17|        2017|   TV-MA|  78 min|     Stand-Up Comedy|Comedian and cele...|\n",
            "| 11|70299204|  Movie|Kidnapping Mr. He...|    Daniel Alfredson|Jim Sturgess, Sam...|Netherlands, Belg...|  8-Sep-17|        2015|       R|  95 min|Action & Adventur...|\"When beer magnat...|\n",
            "| 12|80182480|  Movie|Krish Trish and B...|             unknown|Damandeep Singh B...|             unknown|  8-Sep-17|        2009|   TV-Y7|  58 min|Children & Family...|A team of minstre...|\n",
            "| 13|80182483|  Movie|Krish Trish and B...|Munjal Shroff, Ti...|Damandeep Singh B...|             unknown|  8-Sep-17|        2013|   TV-Y7|  62 min|Children & Family...|An artisan is che...|\n",
            "| 14|80182596|  Movie|Krish Trish and B...|Munjal Shroff, Ti...|Damandeep Singh B...|             unknown|  8-Sep-17|        2016|    TV-Y|  65 min|Children & Family...|A cat, monkey and...|\n",
            "| 15|80182482|  Movie|Krish Trish and B...|        Tilak Shetty|Damandeep Singh B...|             unknown|  8-Sep-17|        2012|   TV-Y7|  61 min|Children & Family...|In three comic-st...|\n",
            "| 16|80182597|  Movie|Krish Trish and B...|        Tilak Shetty|Rishi Gambhir, Sm...|             unknown|  8-Sep-17|        2017|   TV-Y7|  65 min|Children & Family...|A cat, monkey and...|\n",
            "| 17|80182481|  Movie|Krish Trish and B...|             unknown|Damandeep Singh B...|             unknown|  8-Sep-17|        2010|   TV-Y7|  58 min|Children & Family...|Animal minstrels ...|\n",
            "| 18|80182621|  Movie|Krish Trish and B...|Munjal Shroff, Ti...|Damandeep Singh B...|             unknown|  8-Sep-17|        2013|   TV-Y7|  60 min|Children & Family...|The consequences ...|\n",
            "| 19|80057969|  Movie|                Love|          Gaspar Noé|Karl Glusman, Kla...|     France, Belgium|  8-Sep-17|        2015|      NR| 135 min|Cult Movies, Dram...|A man in an unsat...|\n",
            "+---+--------+-------+--------------------+--------------------+--------------------+--------------------+----------+------------+--------+--------+--------------------+--------------------+\n",
            "only showing top 20 rows\n",
            "\n"
          ],
          "name": "stdout"
        }
      ]
    },
    {
      "cell_type": "code",
      "metadata": {
        "colab": {
          "base_uri": "https://localhost:8080/"
        },
        "id": "DASTQ_P23PnT",
        "outputId": "d1eeaddf-ebfc-4739-d978-ab163d1abced"
      },
      "source": [
        "from pyspark.ml.feature import Tokenizer, RegexTokenizer\n",
        "from pyspark.sql.functions import col, udf\n",
        "from pyspark.sql.types import IntegerType\n",
        "\n",
        "#tokenize split the words \n",
        "regexTokenizer = RegexTokenizer(inputCol=\"description\", outputCol=\"words\", pattern=\"\\\\W\")\n",
        "df_word = regexTokenizer.transform(df)\n",
        "df_word.select(\"description\", \"words\").show(truncate=False)\n"
      ],
      "execution_count": null,
      "outputs": [
        {
          "output_type": "stream",
          "text": [
            "+------------------------------------------------------------------------------------------------------------------------------------------------------+---------------------------------------------------------------------------------------------------------------------------------------------------------------------------------+\n",
            "|description                                                                                                                                           |words                                                                                                                                                                            |\n",
            "+------------------------------------------------------------------------------------------------------------------------------------------------------+---------------------------------------------------------------------------------------------------------------------------------------------------------------------------------+\n",
            "|Before planning an awesome wedding for his grandfather, a polar bear king must take back a stolen artifact from an evil archaeologist first.          |[before, planning, an, awesome, wedding, for, his, grandfather, a, polar, bear, king, must, take, back, a, stolen, artifact, from, an, evil, archaeologist, first]               |\n",
            "|\"Jandino Asporaat riffs on the challenges of raising kids and serenades the audience with a rousing rendition of \"\"Sex on Fire\"\" in his comedy show.\" |[jandino, asporaat, riffs, on, the, challenges, of, raising, kids, and, serenades, the, audience, with, a, rousing, rendition, of, sex, on, fire, in, his, comedy, show]         |\n",
            "|With the help of three human allies, the Autobots once again protect Earth from the onslaught of the Decepticons and their leader, Megatron.          |[with, the, help, of, three, human, allies, the, autobots, once, again, protect, earth, from, the, onslaught, of, the, decepticons, and, their, leader, megatron]                |\n",
            "|When a prison ship crash unleashes hundreds of Decepticons on Earth, Bumblebee leads a new Autobot force to protect humankind.                        |[when, a, prison, ship, crash, unleashes, hundreds, of, decepticons, on, earth, bumblebee, leads, a, new, autobot, force, to, protect, humankind]                                |\n",
            "|When nerdy high schooler Dani finally attracts the interest of her longtime crush, she lands in the cross hairs of his ex, a social media celebrity.  |[when, nerdy, high, schooler, dani, finally, attracts, the, interest, of, her, longtime, crush, she, lands, in, the, cross, hairs, of, his, ex, a, social, media, celebrity]     |\n",
            "|A young journalist is forced into a life of crime to save his father and family in this series based on the novel by Miguel Sáez Carral.              |[a, young, journalist, is, forced, into, a, life, of, crime, to, save, his, father, and, family, in, this, series, based, on, the, novel, by, miguel, s, ez, carral]             |\n",
            "|In a dystopian future, an insurance adjuster for a tech company investigates a robot killed for violating protocol and discovers a global conspiracy. |[in, a, dystopian, future, an, insurance, adjuster, for, a, tech, company, investigates, a, robot, killed, for, violating, protocol, and, discovers, a, global, conspiracy]      |\n",
            "|Fabrizio Copano takes audience participation to the next level in this stand-up set while reflecting on sperm banks, family WhatsApp groups and more. |[fabrizio, copano, takes, audience, participation, to, the, next, level, in, this, stand, up, set, while, reflecting, on, sperm, banks, family, whatsapp, groups, and, more]     |\n",
            "|As California's 2016 fire season rages, brave backcountry firefighters race to put out the flames, protect homes and save lives in this docuseries.   |[as, california, s, 2016, fire, season, rages, brave, backcountry, firefighters, race, to, put, out, the, flames, protect, homes, and, save, lives, in, this, docuseries]        |\n",
            "|A struggling couple can't believe their luck when they find a stash of money in the apartment of a neighbor who was recently murdered.                |[a, struggling, couple, can, t, believe, their, luck, when, they, find, a, stash, of, money, in, the, apartment, of, a, neighbor, who, was, recently, murdered]                  |\n",
            "|Comedian and celebrity impersonator Joaquín Reyes decides to be his zesty self for a night of stories about buses, bathroom habits, royalty and more. |[comedian, and, celebrity, impersonator, joaqu, n, reyes, decides, to, be, his, zesty, self, for, a, night, of, stories, about, buses, bathroom, habits, royalty, and, more]     |\n",
            "|\"When beer magnate Alfred \"\"Freddy\"\" Heineken is kidnapped in 1983, his abductors make the largest ransom demand in history.\"                         |[when, beer, magnate, alfred, freddy, heineken, is, kidnapped, in, 1983, his, abductors, make, the, largest, ransom, demand, in, history]                                        |\n",
            "|A team of minstrels, including a monkey, cat and donkey, narrate folktales from the Indian regions of Rajasthan, Kerala and Punjab.                   |[a, team, of, minstrels, including, a, monkey, cat, and, donkey, narrate, folktales, from, the, indian, regions, of, rajasthan, kerala, and, punjab]                             |\n",
            "|An artisan is cheated of his payment, a lion of his throne and a brother of his inheritance in these three stories of deception and justice.          |[an, artisan, is, cheated, of, his, payment, a, lion, of, his, throne, and, a, brother, of, his, inheritance, in, these, three, stories, of, deception, and, justice]            |\n",
            "|A cat, monkey and donkey team up to narrate folktales about friendship from Northeast India, and the Indian regions of Bihar and Rajasthan.           |[a, cat, monkey, and, donkey, team, up, to, narrate, folktales, about, friendship, from, northeast, india, and, the, indian, regions, of, bihar, and, rajasthan]                 |\n",
            "|In three comic-strip-style tales, a boy tries to sell wisdom, a demon is released from captivity, and a king assigns impossible tasks to his minister.|[in, three, comic, strip, style, tales, a, boy, tries, to, sell, wisdom, a, demon, is, released, from, captivity, and, a, king, assigns, impossible, tasks, to, his, minister]   |\n",
            "|A cat, monkey and donkey learn the consequences of cheating through stories from the Indian regions of Rajasthan, West Bengal and Maharashtra.        |[a, cat, monkey, and, donkey, learn, the, consequences, of, cheating, through, stories, from, the, indian, regions, of, rajasthan, west, bengal, and, maharashtra]               |\n",
            "|Animal minstrels narrate stories about a monkey's friendship with a crocodile, two monkeys' foolishness and a villager's encounter with a demon.      |[animal, minstrels, narrate, stories, about, a, monkey, s, friendship, with, a, crocodile, two, monkeys, foolishness, and, a, villager, s, encounter, with, a, demon]            |\n",
            "|The consequences of trickery are explored in stories involving an inconsiderate husband, two greedy courtiers, and a kind man who loses everything.   |[the, consequences, of, trickery, are, explored, in, stories, involving, an, inconsiderate, husband, two, greedy, courtiers, and, a, kind, man, who, loses, everything]          |\n",
            "|A man in an unsatisfying marriage recalls the details of an intense past relationship with an ex-girlfriend when he gets word that she may be missing.|[a, man, in, an, unsatisfying, marriage, recalls, the, details, of, an, intense, past, relationship, with, an, ex, girlfriend, when, he, gets, word, that, she, may, be, missing]|\n",
            "+------------------------------------------------------------------------------------------------------------------------------------------------------+---------------------------------------------------------------------------------------------------------------------------------------------------------------------------------+\n",
            "only showing top 20 rows\n",
            "\n"
          ],
          "name": "stdout"
        }
      ]
    },
    {
      "cell_type": "code",
      "metadata": {
        "colab": {
          "base_uri": "https://localhost:8080/"
        },
        "id": "4XOZ2EvU7wof",
        "outputId": "19fd160f-e4eb-4eef-c13a-3922e92d56e3"
      },
      "source": [
        "# delete stop words \n",
        "from pyspark.ml.feature import StopWordsRemover\n",
        "remover = StopWordsRemover(inputCol=\"words\", outputCol=\"words2\")\n",
        "df_word=remover.transform(df_word)\n",
        "df_word.show(truncate=False)\n"
      ],
      "execution_count": null,
      "outputs": [
        {
          "output_type": "stream",
          "text": [
            "+---+--------+-------+--------------------------------------------------+-------------------------------+----------------------------------------------------------------------------------------------------------------------------------------------------------------------------------+---------------------------------------------------+----------+------------+--------+--------+-----------------------------------------------------------------+------------------------------------------------------------------------------------------------------------------------------------------------------+---------------------------------------------------------------------------------------------------------------------------------------------------------------------------------+----------------------------------------------------------------------------------------------------------------------------------------+\n",
            "|_c0|show_id |type   |title                                             |director                       |cast                                                                                                                                                                              |country                                            |date_added|release_year|rating  |duration|listed_in                                                        |description                                                                                                                                           |words                                                                                                                                                                            |words2                                                                                                                                  |\n",
            "+---+--------+-------+--------------------------------------------------+-------------------------------+----------------------------------------------------------------------------------------------------------------------------------------------------------------------------------+---------------------------------------------------+----------+------------+--------+--------+-----------------------------------------------------------------+------------------------------------------------------------------------------------------------------------------------------------------------------+---------------------------------------------------------------------------------------------------------------------------------------------------------------------------------+----------------------------------------------------------------------------------------------------------------------------------------+\n",
            "|0  |81145628|Movie  |Norm of the North: King Sized Adventure           |Richard Finn, Tim Maltby       |Alan Marriott, Andrew Toth, Brian Dobson, Cole Howard, Jennifer Cameron, Jonathan Holmes, Lee Tockar, Lisa Durupt, Maya Kay, Michael Dobson                                       |United States, India, South Korea, China           |9-Sep-19  |2019        |TV-PG   |90 min  |Children & Family Movies, Comedies                               |Before planning an awesome wedding for his grandfather, a polar bear king must take back a stolen artifact from an evil archaeologist first.          |[before, planning, an, awesome, wedding, for, his, grandfather, a, polar, bear, king, must, take, back, a, stolen, artifact, from, an, evil, archaeologist, first]               |[planning, awesome, wedding, grandfather, polar, bear, king, must, take, back, stolen, artifact, evil, archaeologist, first]            |\n",
            "|1  |80117401|Movie  |Jandino: Whatever it Takes                        |unknown                        |Jandino Asporaat                                                                                                                                                                  |United Kingdom                                     |9-Sep-16  |2016        |TV-MA   |94 min  |Stand-Up Comedy                                                  |\"Jandino Asporaat riffs on the challenges of raising kids and serenades the audience with a rousing rendition of \"\"Sex on Fire\"\" in his comedy show.\" |[jandino, asporaat, riffs, on, the, challenges, of, raising, kids, and, serenades, the, audience, with, a, rousing, rendition, of, sex, on, fire, in, his, comedy, show]         |[jandino, asporaat, riffs, challenges, raising, kids, serenades, audience, rousing, rendition, sex, fire, comedy, show]                 |\n",
            "|2  |70234439|TV Show|Transformers Prime                                |unknown                        |Peter Cullen, Sumalee Montano, Frank Welker, Jeffrey Combs, Kevin Michael Richardson, Tania Gunadi, Josh Keaton, Steve Blum, Andy Pessoa, Ernie Hudson, Daran Norris, Will Friedle|United States                                      |8-Sep-18  |2013        |TV-Y7-FV|1 Season|Kids' TV                                                         |With the help of three human allies, the Autobots once again protect Earth from the onslaught of the Decepticons and their leader, Megatron.          |[with, the, help, of, three, human, allies, the, autobots, once, again, protect, earth, from, the, onslaught, of, the, decepticons, and, their, leader, megatron]                |[help, three, human, allies, autobots, protect, earth, onslaught, decepticons, leader, megatron]                                        |\n",
            "|3  |80058654|TV Show|Transformers: Robots in Disguise                  |unknown                        |Will Friedle, Darren Criss, Constance Zimmer, Khary Payton, Mitchell Whitfield, Stuart Allan, Ted McGinley, Peter Cullen                                                          |United States                                      |8-Sep-18  |2016        |TV-Y7   |1 Season|Kids' TV                                                         |When a prison ship crash unleashes hundreds of Decepticons on Earth, Bumblebee leads a new Autobot force to protect humankind.                        |[when, a, prison, ship, crash, unleashes, hundreds, of, decepticons, on, earth, bumblebee, leads, a, new, autobot, force, to, protect, humankind]                                |[prison, ship, crash, unleashes, hundreds, decepticons, earth, bumblebee, leads, new, autobot, force, protect, humankind]               |\n",
            "|4  |80125979|Movie  |#realityhigh                                      |Fernando Lebrija               |Nesta Cooper, Kate Walsh, John Michael Higgins, Keith Powers, Alicia Sanz, Jake Borelli, Kid Ink, Yousef Erakat, Rebekah Graf, Anne Winters, Peter Gilroy, Patrick Davis          |United States                                      |8-Sep-17  |2017        |TV-14   |99 min  |Comedies                                                         |When nerdy high schooler Dani finally attracts the interest of her longtime crush, she lands in the cross hairs of his ex, a social media celebrity.  |[when, nerdy, high, schooler, dani, finally, attracts, the, interest, of, her, longtime, crush, she, lands, in, the, cross, hairs, of, his, ex, a, social, media, celebrity]     |[nerdy, high, schooler, dani, finally, attracts, interest, longtime, crush, lands, cross, hairs, ex, social, media, celebrity]          |\n",
            "|5  |80163890|TV Show|Apaches                                           |unknown                        |Alberto Ammann, Eloy Azorín, Verónica Echegui, Lucía Jiménez, Claudia Traisac                                                                                                     |Spain                                              |8-Sep-17  |2016        |TV-MA   |1 Season|Crime TV Shows, International TV Shows, Spanish-Language TV Shows|A young journalist is forced into a life of crime to save his father and family in this series based on the novel by Miguel Sáez Carral.              |[a, young, journalist, is, forced, into, a, life, of, crime, to, save, his, father, and, family, in, this, series, based, on, the, novel, by, miguel, s, ez, carral]             |[young, journalist, forced, life, crime, save, father, family, series, based, novel, miguel, ez, carral]                                |\n",
            "|6  |70304989|Movie  |Automata                                          |Gabe Ibáñez                    |Antonio Banderas, Dylan McDermott, Melanie Griffith, Birgitte Hjort Sørensen, Robert Forster, Christa Campbell, Tim McInnerny, Andy Nyman, David Ryall                            |Bulgaria, United States, Spain, Canada             |8-Sep-17  |2014        |R       |110 min |International Movies, Sci-Fi & Fantasy, Thrillers                |In a dystopian future, an insurance adjuster for a tech company investigates a robot killed for violating protocol and discovers a global conspiracy. |[in, a, dystopian, future, an, insurance, adjuster, for, a, tech, company, investigates, a, robot, killed, for, violating, protocol, and, discovers, a, global, conspiracy]      |[dystopian, future, insurance, adjuster, tech, company, investigates, robot, killed, violating, protocol, discovers, global, conspiracy]|\n",
            "|7  |80164077|Movie  |Fabrizio Copano: Solo pienso en mi                |Rodrigo Toro, Francisco Schultz|Fabrizio Copano                                                                                                                                                                   |Chile                                              |8-Sep-17  |2017        |TV-MA   |60 min  |Stand-Up Comedy                                                  |Fabrizio Copano takes audience participation to the next level in this stand-up set while reflecting on sperm banks, family WhatsApp groups and more. |[fabrizio, copano, takes, audience, participation, to, the, next, level, in, this, stand, up, set, while, reflecting, on, sperm, banks, family, whatsapp, groups, and, more]     |[fabrizio, copano, takes, audience, participation, next, level, stand, set, reflecting, sperm, banks, family, whatsapp, groups]         |\n",
            "|8  |80117902|TV Show|Fire Chasers                                      |unknown                        |unknown                                                                                                                                                                           |United States                                      |8-Sep-17  |2017        |TV-MA   |1 Season|Docuseries, Science & Nature TV                                  |As California's 2016 fire season rages, brave backcountry firefighters race to put out the flames, protect homes and save lives in this docuseries.   |[as, california, s, 2016, fire, season, rages, brave, backcountry, firefighters, race, to, put, out, the, flames, protect, homes, and, save, lives, in, this, docuseries]        |[california, 2016, fire, season, rages, brave, backcountry, firefighters, race, put, flames, protect, homes, save, lives, docuseries]   |\n",
            "|9  |70304990|Movie  |Good People                                       |Henrik Ruben Genz              |James Franco, Kate Hudson, Tom Wilkinson, Omar Sy, Sam Spruell, Anna Friel, Thomas Arnold, Oliver Dimsdale, Diana Hardcastle, Michael Jibson, Diarmaid Murtagh                    |United States, United Kingdom, Denmark, Sweden     |8-Sep-17  |2014        |R       |90 min  |Action & Adventure, Thrillers                                    |A struggling couple can't believe their luck when they find a stash of money in the apartment of a neighbor who was recently murdered.                |[a, struggling, couple, can, t, believe, their, luck, when, they, find, a, stash, of, money, in, the, apartment, of, a, neighbor, who, was, recently, murdered]                  |[struggling, couple, believe, luck, find, stash, money, apartment, neighbor, recently, murdered]                                        |\n",
            "|10 |80169755|Movie  |Joaquín Reyes: Una y no más                       |José Miguel Contreras          |Joaquín Reyes                                                                                                                                                                     |unknown                                            |8-Sep-17  |2017        |TV-MA   |78 min  |Stand-Up Comedy                                                  |Comedian and celebrity impersonator Joaquín Reyes decides to be his zesty self for a night of stories about buses, bathroom habits, royalty and more. |[comedian, and, celebrity, impersonator, joaqu, n, reyes, decides, to, be, his, zesty, self, for, a, night, of, stories, about, buses, bathroom, habits, royalty, and, more]     |[comedian, celebrity, impersonator, joaqu, n, reyes, decides, zesty, self, night, stories, buses, bathroom, habits, royalty]            |\n",
            "|11 |70299204|Movie  |Kidnapping Mr. Heineken                           |Daniel Alfredson               |Jim Sturgess, Sam Worthington, Ryan Kwanten, Anthony Hopkins, Mark van Eeuwen, Thomas Cocquerel, Jemima West, David Dencik                                                        |Netherlands, Belgium, United Kingdom, United States|8-Sep-17  |2015        |R       |95 min  |Action & Adventure, Dramas, International Movies                 |\"When beer magnate Alfred \"\"Freddy\"\" Heineken is kidnapped in 1983, his abductors make the largest ransom demand in history.\"                         |[when, beer, magnate, alfred, freddy, heineken, is, kidnapped, in, 1983, his, abductors, make, the, largest, ransom, demand, in, history]                                        |[beer, magnate, alfred, freddy, heineken, kidnapped, 1983, abductors, make, largest, ransom, demand, history]                           |\n",
            "|12 |80182480|Movie  |Krish Trish and Baltiboy                          |unknown                        |Damandeep Singh Baggan, Smita Malhotra, Baba Sehgal                                                                                                                               |unknown                                            |8-Sep-17  |2009        |TV-Y7   |58 min  |Children & Family Movies                                         |A team of minstrels, including a monkey, cat and donkey, narrate folktales from the Indian regions of Rajasthan, Kerala and Punjab.                   |[a, team, of, minstrels, including, a, monkey, cat, and, donkey, narrate, folktales, from, the, indian, regions, of, rajasthan, kerala, and, punjab]                             |[team, minstrels, including, monkey, cat, donkey, narrate, folktales, indian, regions, rajasthan, kerala, punjab]                       |\n",
            "|13 |80182483|Movie  |Krish Trish and Baltiboy: Battle of Wits          |Munjal Shroff, Tilak Shetty    |Damandeep Singh Baggan, Smita Malhotra, Baba Sehgal, Deepak Chachra                                                                                                               |unknown                                            |8-Sep-17  |2013        |TV-Y7   |62 min  |Children & Family Movies                                         |An artisan is cheated of his payment, a lion of his throne and a brother of his inheritance in these three stories of deception and justice.          |[an, artisan, is, cheated, of, his, payment, a, lion, of, his, throne, and, a, brother, of, his, inheritance, in, these, three, stories, of, deception, and, justice]            |[artisan, cheated, payment, lion, throne, brother, inheritance, three, stories, deception, justice]                                     |\n",
            "|14 |80182596|Movie  |Krish Trish and Baltiboy: Best Friends Forever    |Munjal Shroff, Tilak Shetty    |Damandeep Singh Baggan, Smita Malhotra, Deepak Chachra                                                                                                                            |unknown                                            |8-Sep-17  |2016        |TV-Y    |65 min  |Children & Family Movies                                         |A cat, monkey and donkey team up to narrate folktales about friendship from Northeast India, and the Indian regions of Bihar and Rajasthan.           |[a, cat, monkey, and, donkey, team, up, to, narrate, folktales, about, friendship, from, northeast, india, and, the, indian, regions, of, bihar, and, rajasthan]                 |[cat, monkey, donkey, team, narrate, folktales, friendship, northeast, india, indian, regions, bihar, rajasthan]                        |\n",
            "|15 |80182482|Movie  |Krish Trish and Baltiboy: Comics of India         |Tilak Shetty                   |Damandeep Singh Baggan, Smita Malhotra, Baba Sehgal                                                                                                                               |unknown                                            |8-Sep-17  |2012        |TV-Y7   |61 min  |Children & Family Movies                                         |In three comic-strip-style tales, a boy tries to sell wisdom, a demon is released from captivity, and a king assigns impossible tasks to his minister.|[in, three, comic, strip, style, tales, a, boy, tries, to, sell, wisdom, a, demon, is, released, from, captivity, and, a, king, assigns, impossible, tasks, to, his, minister]   |[three, comic, strip, style, tales, boy, tries, sell, wisdom, demon, released, captivity, king, assigns, impossible, tasks, minister]   |\n",
            "|16 |80182597|Movie  |Krish Trish and Baltiboy: Oversmartness Never Pays|Tilak Shetty                   |Rishi Gambhir, Smita Malhotra, Deepak Chachra                                                                                                                                     |unknown                                            |8-Sep-17  |2017        |TV-Y7   |65 min  |Children & Family Movies                                         |A cat, monkey and donkey learn the consequences of cheating through stories from the Indian regions of Rajasthan, West Bengal and Maharashtra.        |[a, cat, monkey, and, donkey, learn, the, consequences, of, cheating, through, stories, from, the, indian, regions, of, rajasthan, west, bengal, and, maharashtra]               |[cat, monkey, donkey, learn, consequences, cheating, stories, indian, regions, rajasthan, west, bengal, maharashtra]                    |\n",
            "|17 |80182481|Movie  |Krish Trish and Baltiboy: Part II                 |unknown                        |Damandeep Singh Baggan, Smita Malhotra, Baba Sehgal                                                                                                                               |unknown                                            |8-Sep-17  |2010        |TV-Y7   |58 min  |Children & Family Movies                                         |Animal minstrels narrate stories about a monkey's friendship with a crocodile, two monkeys' foolishness and a villager's encounter with a demon.      |[animal, minstrels, narrate, stories, about, a, monkey, s, friendship, with, a, crocodile, two, monkeys, foolishness, and, a, villager, s, encounter, with, a, demon]            |[animal, minstrels, narrate, stories, monkey, friendship, crocodile, two, monkeys, foolishness, villager, encounter, demon]             |\n",
            "|18 |80182621|Movie  |Krish Trish and Baltiboy: The Greatest Trick      |Munjal Shroff, Tilak Shetty    |Damandeep Singh Baggan, Smita Malhotra, Baba Sehgal                                                                                                                               |unknown                                            |8-Sep-17  |2013        |TV-Y7   |60 min  |Children & Family Movies                                         |The consequences of trickery are explored in stories involving an inconsiderate husband, two greedy courtiers, and a kind man who loses everything.   |[the, consequences, of, trickery, are, explored, in, stories, involving, an, inconsiderate, husband, two, greedy, courtiers, and, a, kind, man, who, loses, everything]          |[consequences, trickery, explored, stories, involving, inconsiderate, husband, two, greedy, courtiers, kind, man, loses, everything]    |\n",
            "|19 |80057969|Movie  |Love                                              |Gaspar Noé                     |Karl Glusman, Klara Kristin, Aomi Muyock, Ugo Fox, Juan Saavedra, Gaspar Noé, Isabelle Nicou, Benoît Debie, Vincent Maraval, Déborah Révy                                         |France, Belgium                                    |8-Sep-17  |2015        |NR      |135 min |Cult Movies, Dramas, Independent Movies                          |A man in an unsatisfying marriage recalls the details of an intense past relationship with an ex-girlfriend when he gets word that she may be missing.|[a, man, in, an, unsatisfying, marriage, recalls, the, details, of, an, intense, past, relationship, with, an, ex, girlfriend, when, he, gets, word, that, she, may, be, missing]|[man, unsatisfying, marriage, recalls, details, intense, past, relationship, ex, girlfriend, gets, word, may, missing]                  |\n",
            "+---+--------+-------+--------------------------------------------------+-------------------------------+----------------------------------------------------------------------------------------------------------------------------------------------------------------------------------+---------------------------------------------------+----------+------------+--------+--------+-----------------------------------------------------------------+------------------------------------------------------------------------------------------------------------------------------------------------------+---------------------------------------------------------------------------------------------------------------------------------------------------------------------------------+----------------------------------------------------------------------------------------------------------------------------------------+\n",
            "only showing top 20 rows\n",
            "\n"
          ],
          "name": "stdout"
        }
      ]
    },
    {
      "cell_type": "code",
      "metadata": {
        "colab": {
          "base_uri": "https://localhost:8080/"
        },
        "id": "QaVmuJOkAv9e",
        "outputId": "b5c4e9ec-f340-495f-cb14-97ae223ead42"
      },
      "source": [
        "# words into vector\n",
        "from pyspark.ml.feature import Word2Vec\n",
        "word2Vec = Word2Vec(vectorSize=3, minCount=0, inputCol=\"words2\", outputCol=\"wordvec\")\n",
        "word2vec_model = word2Vec.fit(df_word)\n",
        "df_word = word2vec_model.transform(df_word)\n",
        "df_word.show()"
      ],
      "execution_count": null,
      "outputs": [
        {
          "output_type": "stream",
          "text": [
            "+---+--------+-------+--------------------+--------------------+--------------------+--------------------+----------+------------+--------+--------+--------------------+--------------------+--------------------+--------------------+--------------------+\n",
            "|_c0| show_id|   type|               title|            director|                cast|             country|date_added|release_year|  rating|duration|           listed_in|         description|               words|              words2|             wordvec|\n",
            "+---+--------+-------+--------------------+--------------------+--------------------+--------------------+----------+------------+--------+--------+--------------------+--------------------+--------------------+--------------------+--------------------+\n",
            "|  0|81145628|  Movie|Norm of the North...|Richard Finn, Tim...|Alan Marriott, An...|United States, In...|  9-Sep-19|        2019|   TV-PG|  90 min|Children & Family...|Before planning a...|[before, planning...|[planning, awesom...|[-0.0882766588280...|\n",
            "|  1|80117401|  Movie|Jandino: Whatever...|             unknown|    Jandino Asporaat|      United Kingdom|  9-Sep-16|        2016|   TV-MA|  94 min|     Stand-Up Comedy|\"Jandino Asporaat...|[jandino, asporaa...|[jandino, asporaa...|[-0.0256702997056...|\n",
            "|  2|70234439|TV Show|  Transformers Prime|             unknown|Peter Cullen, Sum...|       United States|  8-Sep-18|        2013|TV-Y7-FV|1 Season|            Kids' TV|With the help of ...|[with, the, help,...|[help, three, hum...|[-0.0628436724655...|\n",
            "|  3|80058654|TV Show|Transformers: Rob...|             unknown|Will Friedle, Dar...|       United States|  8-Sep-18|        2016|   TV-Y7|1 Season|            Kids' TV|When a prison shi...|[when, a, prison,...|[prison, ship, cr...|[-0.0825963596414...|\n",
            "|  4|80125979|  Movie|        #realityhigh|    Fernando Lebrija|Nesta Cooper, Kat...|       United States|  8-Sep-17|        2017|   TV-14|  99 min|            Comedies|When nerdy high s...|[when, nerdy, hig...|[nerdy, high, sch...|[-0.0723291203030...|\n",
            "|  5|80163890|TV Show|             Apaches|             unknown|Alberto Ammann, E...|               Spain|  8-Sep-17|        2016|   TV-MA|1 Season|Crime TV Shows, I...|A young journalis...|[a, young, journa...|[young, journalis...|[-0.1320756409051...|\n",
            "|  6|70304989|  Movie|            Automata|         Gabe Ibáñez|Antonio Banderas,...|Bulgaria, United ...|  8-Sep-17|        2014|       R| 110 min|International Mov...|In a dystopian fu...|[in, a, dystopian...|[dystopian, futur...|[-0.0763305250023...|\n",
            "|  7|80164077|  Movie|Fabrizio Copano: ...|Rodrigo Toro, Fra...|     Fabrizio Copano|               Chile|  8-Sep-17|        2017|   TV-MA|  60 min|     Stand-Up Comedy|Fabrizio Copano t...|[fabrizio, copano...|[fabrizio, copano...|[-0.0891583532094...|\n",
            "|  8|80117902|TV Show|        Fire Chasers|             unknown|             unknown|       United States|  8-Sep-17|        2017|   TV-MA|1 Season|Docuseries, Scien...|As California's 2...|[as, california, ...|[california, 2016...|[-0.0464824216178...|\n",
            "|  9|70304990|  Movie|         Good People|   Henrik Ruben Genz|James Franco, Kat...|United States, Un...|  8-Sep-17|        2014|       R|  90 min|Action & Adventur...|A struggling coup...|[a, struggling, c...|[struggling, coup...|[-0.0768636526031...|\n",
            "| 10|80169755|  Movie|Joaquín Reyes: Un...|José Miguel Contr...|       Joaquín Reyes|             unknown|  8-Sep-17|        2017|   TV-MA|  78 min|     Stand-Up Comedy|Comedian and cele...|[comedian, and, c...|[comedian, celebr...|[-0.0453797966591...|\n",
            "| 11|70299204|  Movie|Kidnapping Mr. He...|    Daniel Alfredson|Jim Sturgess, Sam...|Netherlands, Belg...|  8-Sep-17|        2015|       R|  95 min|Action & Adventur...|\"When beer magnat...|[when, beer, magn...|[beer, magnate, a...|[-4.6930286603478...|\n",
            "| 12|80182480|  Movie|Krish Trish and B...|             unknown|Damandeep Singh B...|             unknown|  8-Sep-17|        2009|   TV-Y7|  58 min|Children & Family...|A team of minstre...|[a, team, of, min...|[team, minstrels,...|[-0.0240019383804...|\n",
            "| 13|80182483|  Movie|Krish Trish and B...|Munjal Shroff, Ti...|Damandeep Singh B...|             unknown|  8-Sep-17|        2013|   TV-Y7|  62 min|Children & Family...|An artisan is che...|[an, artisan, is,...|[artisan, cheated...|[-0.1022796779500...|\n",
            "| 14|80182596|  Movie|Krish Trish and B...|Munjal Shroff, Ti...|Damandeep Singh B...|             unknown|  8-Sep-17|        2016|    TV-Y|  65 min|Children & Family...|A cat, monkey and...|[a, cat, monkey, ...|[cat, monkey, don...|[-0.0770644420901...|\n",
            "| 15|80182482|  Movie|Krish Trish and B...|        Tilak Shetty|Damandeep Singh B...|             unknown|  8-Sep-17|        2012|   TV-Y7|  61 min|Children & Family...|In three comic-st...|[in, three, comic...|[three, comic, st...|[-0.1005457988118...|\n",
            "| 16|80182597|  Movie|Krish Trish and B...|        Tilak Shetty|Rishi Gambhir, Sm...|             unknown|  8-Sep-17|        2017|   TV-Y7|  65 min|Children & Family...|A cat, monkey and...|[a, cat, monkey, ...|[cat, monkey, don...|[-0.0194906712769...|\n",
            "| 17|80182481|  Movie|Krish Trish and B...|             unknown|Damandeep Singh B...|             unknown|  8-Sep-17|        2010|   TV-Y7|  58 min|Children & Family...|Animal minstrels ...|[animal, minstrel...|[animal, minstrel...|[-0.0739494960155...|\n",
            "| 18|80182621|  Movie|Krish Trish and B...|Munjal Shroff, Ti...|Damandeep Singh B...|             unknown|  8-Sep-17|        2013|   TV-Y7|  60 min|Children & Family...|The consequences ...|[the, consequence...|[consequences, tr...|[-0.0995101295120...|\n",
            "| 19|80057969|  Movie|                Love|          Gaspar Noé|Karl Glusman, Kla...|     France, Belgium|  8-Sep-17|        2015|      NR| 135 min|Cult Movies, Dram...|A man in an unsat...|[a, man, in, an, ...|[man, unsatisfyin...|[-0.1644930180960...|\n",
            "+---+--------+-------+--------------------+--------------------+--------------------+--------------------+----------+------------+--------+--------+--------------------+--------------------+--------------------+--------------------+--------------------+\n",
            "only showing top 20 rows\n",
            "\n"
          ],
          "name": "stdout"
        }
      ]
    },
    {
      "cell_type": "code",
      "metadata": {
        "colab": {
          "base_uri": "https://localhost:8080/"
        },
        "id": "mJrWJDtSDaSY",
        "outputId": "7e95c9d8-faa8-4737-8141-649c79d190c2"
      },
      "source": [
        "# normalization \n",
        "from pyspark.ml.feature import StandardScaler\n",
        "scaler = StandardScaler(inputCol=\"wordvec\", outputCol=\"scaledfeatures\", withStd=True, withMean=False)\n",
        "scalerModel = scaler.fit(df_word)\n",
        "df_word = scalerModel.transform(df_word)\n",
        "df_word.show()\n"
      ],
      "execution_count": null,
      "outputs": [
        {
          "output_type": "stream",
          "text": [
            "+---+--------+-------+--------------------+--------------------+--------------------+--------------------+----------+------------+--------+--------+--------------------+--------------------+--------------------+--------------------+--------------------+--------------------+\n",
            "|_c0| show_id|   type|               title|            director|                cast|             country|date_added|release_year|  rating|duration|           listed_in|         description|               words|              words2|             wordvec|      scaledfeatures|\n",
            "+---+--------+-------+--------------------+--------------------+--------------------+--------------------+----------+------------+--------+--------+--------------------+--------------------+--------------------+--------------------+--------------------+--------------------+\n",
            "|  0|81145628|  Movie|Norm of the North...|Richard Finn, Tim...|Alan Marriott, An...|United States, In...|  9-Sep-19|        2019|   TV-PG|  90 min|Children & Family...|Before planning a...|[before, planning...|[planning, awesom...|[-0.0882766588280...|[-2.2598177012433...|\n",
            "|  1|80117401|  Movie|Jandino: Whatever...|             unknown|    Jandino Asporaat|      United Kingdom|  9-Sep-16|        2016|   TV-MA|  94 min|     Stand-Up Comedy|\"Jandino Asporaat...|[jandino, asporaa...|[jandino, asporaa...|[-0.0256702997056...|[-0.6571408392793...|\n",
            "|  2|70234439|TV Show|  Transformers Prime|             unknown|Peter Cullen, Sum...|       United States|  8-Sep-18|        2013|TV-Y7-FV|1 Season|            Kids' TV|With the help of ...|[with, the, help,...|[help, three, hum...|[-0.0628436724655...|[-1.6087519094414...|\n",
            "|  3|80058654|TV Show|Transformers: Rob...|             unknown|Will Friedle, Dar...|       United States|  8-Sep-18|        2016|   TV-Y7|1 Season|            Kids' TV|When a prison shi...|[when, a, prison,...|[prison, ship, cr...|[-0.0825963596414...|[-2.1144062094546...|\n",
            "|  4|80125979|  Movie|        #realityhigh|    Fernando Lebrija|Nesta Cooper, Kat...|       United States|  8-Sep-17|        2017|   TV-14|  99 min|            Comedies|When nerdy high s...|[when, nerdy, hig...|[nerdy, high, sch...|[-0.0723291203030...|[-1.8515724150200...|\n",
            "|  5|80163890|TV Show|             Apaches|             unknown|Alberto Ammann, E...|               Spain|  8-Sep-17|        2016|   TV-MA|1 Season|Crime TV Shows, I...|A young journalis...|[a, young, journa...|[young, journalis...|[-0.1320756409051...|[-3.3810395090029...|\n",
            "|  6|70304989|  Movie|            Automata|         Gabe Ibáñez|Antonio Banderas,...|Bulgaria, United ...|  8-Sep-17|        2014|       R| 110 min|International Mov...|In a dystopian fu...|[in, a, dystopian...|[dystopian, futur...|[-0.0763305250023...|[-1.9540054396643...|\n",
            "|  7|80164077|  Movie|Fabrizio Copano: ...|Rodrigo Toro, Fra...|     Fabrizio Copano|               Chile|  8-Sep-17|        2017|   TV-MA|  60 min|     Stand-Up Comedy|Fabrizio Copano t...|[fabrizio, copano...|[fabrizio, copano...|[-0.0891583532094...|[-2.2823884305472...|\n",
            "|  8|80117902|TV Show|        Fire Chasers|             unknown|             unknown|       United States|  8-Sep-17|        2017|   TV-MA|1 Season|Docuseries, Scien...|As California's 2...|[as, california, ...|[california, 2016...|[-0.0464824216178...|[-1.1899158912804...|\n",
            "|  9|70304990|  Movie|         Good People|   Henrik Ruben Genz|James Franco, Kat...|United States, Un...|  8-Sep-17|        2014|       R|  90 min|Action & Adventur...|A struggling coup...|[a, struggling, c...|[struggling, coup...|[-0.0768636526031...|[-1.9676531151143...|\n",
            "| 10|80169755|  Movie|Joaquín Reyes: Un...|José Miguel Contr...|       Joaquín Reyes|             unknown|  8-Sep-17|        2017|   TV-MA|  78 min|     Stand-Up Comedy|Comedian and cele...|[comedian, and, c...|[comedian, celebr...|[-0.0453797966591...|[-1.1616895012850...|\n",
            "| 11|70299204|  Movie|Kidnapping Mr. He...|    Daniel Alfredson|Jim Sturgess, Sam...|Netherlands, Belg...|  8-Sep-17|        2015|       R|  95 min|Action & Adventur...|\"When beer magnat...|[when, beer, magn...|[beer, magnate, a...|[-4.6930286603478...|[-0.0120138090633...|\n",
            "| 12|80182480|  Movie|Krish Trish and B...|             unknown|Damandeep Singh B...|             unknown|  8-Sep-17|        2009|   TV-Y7|  58 min|Children & Family...|A team of minstre...|[a, team, of, min...|[team, minstrels,...|[-0.0240019383804...|[-0.6144320133584...|\n",
            "| 13|80182483|  Movie|Krish Trish and B...|Munjal Shroff, Ti...|Damandeep Singh B...|             unknown|  8-Sep-17|        2013|   TV-Y7|  62 min|Children & Family...|An artisan is che...|[an, artisan, is,...|[artisan, cheated...|[-0.1022796779500...|[-2.6182847173588...|\n",
            "| 14|80182596|  Movie|Krish Trish and B...|Munjal Shroff, Ti...|Damandeep Singh B...|             unknown|  8-Sep-17|        2016|    TV-Y|  65 min|Children & Family...|A cat, monkey and...|[a, cat, monkey, ...|[cat, monkey, don...|[-0.0770644420901...|[-1.9727931786690...|\n",
            "| 15|80182482|  Movie|Krish Trish and B...|        Tilak Shetty|Damandeep Singh B...|             unknown|  8-Sep-17|        2012|   TV-Y7|  61 min|Children & Family...|In three comic-st...|[in, three, comic...|[three, comic, st...|[-0.1005457988118...|[-2.5738986834924...|\n",
            "| 16|80182597|  Movie|Krish Trish and B...|        Tilak Shetty|Rishi Gambhir, Sm...|             unknown|  8-Sep-17|        2017|   TV-Y7|  65 min|Children & Family...|A cat, monkey and...|[a, cat, monkey, ...|[cat, monkey, don...|[-0.0194906712769...|[-0.4989468852296...|\n",
            "| 17|80182481|  Movie|Krish Trish and B...|             unknown|Damandeep Singh B...|             unknown|  8-Sep-17|        2010|   TV-Y7|  58 min|Children & Family...|Animal minstrels ...|[animal, minstrel...|[animal, minstrel...|[-0.0739494960155...|[-1.8930528444599...|\n",
            "| 18|80182621|  Movie|Krish Trish and B...|Munjal Shroff, Ti...|Damandeep Singh B...|             unknown|  8-Sep-17|        2013|   TV-Y7|  60 min|Children & Family...|The consequences ...|[the, consequence...|[consequences, tr...|[-0.0995101295120...|[-2.5473863092435...|\n",
            "| 19|80057969|  Movie|                Love|          Gaspar Noé|Karl Glusman, Kla...|     France, Belgium|  8-Sep-17|        2015|      NR| 135 min|Cult Movies, Dram...|A man in an unsat...|[a, man, in, an, ...|[man, unsatisfyin...|[-0.1644930180960...|[-4.2109005818674...|\n",
            "+---+--------+-------+--------------------+--------------------+--------------------+--------------------+----------+------------+--------+--------+--------------------+--------------------+--------------------+--------------------+--------------------+--------------------+\n",
            "only showing top 20 rows\n",
            "\n"
          ],
          "name": "stdout"
        }
      ]
    },
    {
      "cell_type": "code",
      "metadata": {
        "id": "wCUiTEEaGnGn"
      },
      "source": [
        "# Trains a k-means model with 200k \n",
        "from pyspark.ml.clustering import KMeans\n",
        "kmeans = KMeans(featuresCol='scaledfeatures',k=200)\n",
        "kmeans_model = kmeans.fit(df_word)\n"
      ],
      "execution_count": null,
      "outputs": []
    },
    {
      "cell_type": "code",
      "metadata": {
        "colab": {
          "base_uri": "https://localhost:8080/"
        },
        "id": "l3a9NdPtJfi5",
        "outputId": "f4ecbe48-0c84-4d0a-8157-4da1e96efeba"
      },
      "source": [
        "df_word = kmeans_model.transform(df_word)\n",
        "df_word.show()"
      ],
      "execution_count": null,
      "outputs": [
        {
          "output_type": "stream",
          "text": [
            "+---+--------+-------+--------------------+--------------------+--------------------+--------------------+----------+------------+--------+--------+--------------------+--------------------+--------------------+--------------------+--------------------+--------------------+----------+\n",
            "|_c0| show_id|   type|               title|            director|                cast|             country|date_added|release_year|  rating|duration|           listed_in|         description|               words|              words2|             wordvec|      scaledfeatures|prediction|\n",
            "+---+--------+-------+--------------------+--------------------+--------------------+--------------------+----------+------------+--------+--------+--------------------+--------------------+--------------------+--------------------+--------------------+--------------------+----------+\n",
            "|  0|81145628|  Movie|Norm of the North...|Richard Finn, Tim...|Alan Marriott, An...|United States, In...|  9-Sep-19|        2019|   TV-PG|  90 min|Children & Family...|Before planning a...|[before, planning...|[planning, awesom...|[-0.0882766588280...|[-2.2598177012433...|        57|\n",
            "|  1|80117401|  Movie|Jandino: Whatever...|             unknown|    Jandino Asporaat|      United Kingdom|  9-Sep-16|        2016|   TV-MA|  94 min|     Stand-Up Comedy|\"Jandino Asporaat...|[jandino, asporaa...|[jandino, asporaa...|[-0.0256702997056...|[-0.6571408392793...|       185|\n",
            "|  2|70234439|TV Show|  Transformers Prime|             unknown|Peter Cullen, Sum...|       United States|  8-Sep-18|        2013|TV-Y7-FV|1 Season|            Kids' TV|With the help of ...|[with, the, help,...|[help, three, hum...|[-0.0628436724655...|[-1.6087519094414...|       189|\n",
            "|  3|80058654|TV Show|Transformers: Rob...|             unknown|Will Friedle, Dar...|       United States|  8-Sep-18|        2016|   TV-Y7|1 Season|            Kids' TV|When a prison shi...|[when, a, prison,...|[prison, ship, cr...|[-0.0825963596414...|[-2.1144062094546...|        95|\n",
            "|  4|80125979|  Movie|        #realityhigh|    Fernando Lebrija|Nesta Cooper, Kat...|       United States|  8-Sep-17|        2017|   TV-14|  99 min|            Comedies|When nerdy high s...|[when, nerdy, hig...|[nerdy, high, sch...|[-0.0723291203030...|[-1.8515724150200...|       156|\n",
            "|  5|80163890|TV Show|             Apaches|             unknown|Alberto Ammann, E...|               Spain|  8-Sep-17|        2016|   TV-MA|1 Season|Crime TV Shows, I...|A young journalis...|[a, young, journa...|[young, journalis...|[-0.1320756409051...|[-3.3810395090029...|        90|\n",
            "|  6|70304989|  Movie|            Automata|         Gabe Ibáñez|Antonio Banderas,...|Bulgaria, United ...|  8-Sep-17|        2014|       R| 110 min|International Mov...|In a dystopian fu...|[in, a, dystopian...|[dystopian, futur...|[-0.0763305250023...|[-1.9540054396643...|       132|\n",
            "|  7|80164077|  Movie|Fabrizio Copano: ...|Rodrigo Toro, Fra...|     Fabrizio Copano|               Chile|  8-Sep-17|        2017|   TV-MA|  60 min|     Stand-Up Comedy|Fabrizio Copano t...|[fabrizio, copano...|[fabrizio, copano...|[-0.0891583532094...|[-2.2823884305472...|        26|\n",
            "|  8|80117902|TV Show|        Fire Chasers|             unknown|             unknown|       United States|  8-Sep-17|        2017|   TV-MA|1 Season|Docuseries, Scien...|As California's 2...|[as, california, ...|[california, 2016...|[-0.0464824216178...|[-1.1899158912804...|       185|\n",
            "|  9|70304990|  Movie|         Good People|   Henrik Ruben Genz|James Franco, Kat...|United States, Un...|  8-Sep-17|        2014|       R|  90 min|Action & Adventur...|A struggling coup...|[a, struggling, c...|[struggling, coup...|[-0.0768636526031...|[-1.9676531151143...|       116|\n",
            "| 10|80169755|  Movie|Joaquín Reyes: Un...|José Miguel Contr...|       Joaquín Reyes|             unknown|  8-Sep-17|        2017|   TV-MA|  78 min|     Stand-Up Comedy|Comedian and cele...|[comedian, and, c...|[comedian, celebr...|[-0.0453797966591...|[-1.1616895012850...|       123|\n",
            "| 11|70299204|  Movie|Kidnapping Mr. He...|    Daniel Alfredson|Jim Sturgess, Sam...|Netherlands, Belg...|  8-Sep-17|        2015|       R|  95 min|Action & Adventur...|\"When beer magnat...|[when, beer, magn...|[beer, magnate, a...|[-4.6930286603478...|[-0.0120138090633...|       163|\n",
            "| 12|80182480|  Movie|Krish Trish and B...|             unknown|Damandeep Singh B...|             unknown|  8-Sep-17|        2009|   TV-Y7|  58 min|Children & Family...|A team of minstre...|[a, team, of, min...|[team, minstrels,...|[-0.0240019383804...|[-0.6144320133584...|        88|\n",
            "| 13|80182483|  Movie|Krish Trish and B...|Munjal Shroff, Ti...|Damandeep Singh B...|             unknown|  8-Sep-17|        2013|   TV-Y7|  62 min|Children & Family...|An artisan is che...|[an, artisan, is,...|[artisan, cheated...|[-0.1022796779500...|[-2.6182847173588...|        65|\n",
            "| 14|80182596|  Movie|Krish Trish and B...|Munjal Shroff, Ti...|Damandeep Singh B...|             unknown|  8-Sep-17|        2016|    TV-Y|  65 min|Children & Family...|A cat, monkey and...|[a, cat, monkey, ...|[cat, monkey, don...|[-0.0770644420901...|[-1.9727931786690...|        87|\n",
            "| 15|80182482|  Movie|Krish Trish and B...|        Tilak Shetty|Damandeep Singh B...|             unknown|  8-Sep-17|        2012|   TV-Y7|  61 min|Children & Family...|In three comic-st...|[in, three, comic...|[three, comic, st...|[-0.1005457988118...|[-2.5738986834924...|        92|\n",
            "| 16|80182597|  Movie|Krish Trish and B...|        Tilak Shetty|Rishi Gambhir, Sm...|             unknown|  8-Sep-17|        2017|   TV-Y7|  65 min|Children & Family...|A cat, monkey and...|[a, cat, monkey, ...|[cat, monkey, don...|[-0.0194906712769...|[-0.4989468852296...|        71|\n",
            "| 17|80182481|  Movie|Krish Trish and B...|             unknown|Damandeep Singh B...|             unknown|  8-Sep-17|        2010|   TV-Y7|  58 min|Children & Family...|Animal minstrels ...|[animal, minstrel...|[animal, minstrel...|[-0.0739494960155...|[-1.8930528444599...|         3|\n",
            "| 18|80182621|  Movie|Krish Trish and B...|Munjal Shroff, Ti...|Damandeep Singh B...|             unknown|  8-Sep-17|        2013|   TV-Y7|  60 min|Children & Family...|The consequences ...|[the, consequence...|[consequences, tr...|[-0.0995101295120...|[-2.5473863092435...|       149|\n",
            "| 19|80057969|  Movie|                Love|          Gaspar Noé|Karl Glusman, Kla...|     France, Belgium|  8-Sep-17|        2015|      NR| 135 min|Cult Movies, Dram...|A man in an unsat...|[a, man, in, an, ...|[man, unsatisfyin...|[-0.1644930180960...|[-4.2109005818674...|        35|\n",
            "+---+--------+-------+--------------------+--------------------+--------------------+--------------------+----------+------------+--------+--------+--------------------+--------------------+--------------------+--------------------+--------------------+--------------------+----------+\n",
            "only showing top 20 rows\n",
            "\n"
          ],
          "name": "stdout"
        }
      ]
    },
    {
      "cell_type": "code",
      "metadata": {
        "colab": {
          "base_uri": "https://localhost:8080/"
        },
        "id": "25upkjFwJvSN",
        "outputId": "d4a5fd71-1ff9-45d2-9c82-ce8dcd3708fd"
      },
      "source": [
        "df_word.groupBy('prediction').count().sort(desc(\"count\")).show()\n"
      ],
      "execution_count": null,
      "outputs": [
        {
          "output_type": "stream",
          "text": [
            "+----------+-----+\n",
            "|prediction|count|\n",
            "+----------+-----+\n",
            "|        57|   80|\n",
            "|        30|   70|\n",
            "|        49|   69|\n",
            "|       104|   65|\n",
            "|        76|   63|\n",
            "|       174|   62|\n",
            "|       118|   60|\n",
            "|        82|   60|\n",
            "|        24|   60|\n",
            "|        96|   59|\n",
            "|       154|   59|\n",
            "|       178|   59|\n",
            "|         3|   58|\n",
            "|        58|   57|\n",
            "|         7|   56|\n",
            "|        66|   56|\n",
            "|       194|   56|\n",
            "|        36|   56|\n",
            "|        15|   56|\n",
            "|       147|   55|\n",
            "+----------+-----+\n",
            "only showing top 20 rows\n",
            "\n"
          ],
          "name": "stdout"
        }
      ]
    },
    {
      "cell_type": "code",
      "metadata": {
        "colab": {
          "base_uri": "https://localhost:8080/"
        },
        "id": "xzW9sheOKPJE",
        "outputId": "2563ed2e-9890-41a0-b93c-efb4d624e1c4"
      },
      "source": [
        "df_word=df_word.drop(\"_c0\")\n",
        "df_word.show()\n"
      ],
      "execution_count": null,
      "outputs": [
        {
          "output_type": "stream",
          "text": [
            "+--------+-------+--------------------+--------------------+--------------------+--------------------+----------+------------+--------+--------+--------------------+--------------------+--------------------+--------------------+--------------------+--------------------+----------+\n",
            "| show_id|   type|               title|            director|                cast|             country|date_added|release_year|  rating|duration|           listed_in|         description|               words|              words2|             wordvec|      scaledfeatures|prediction|\n",
            "+--------+-------+--------------------+--------------------+--------------------+--------------------+----------+------------+--------+--------+--------------------+--------------------+--------------------+--------------------+--------------------+--------------------+----------+\n",
            "|81145628|  Movie|Norm of the North...|Richard Finn, Tim...|Alan Marriott, An...|United States, In...|  9-Sep-19|        2019|   TV-PG|  90 min|Children & Family...|Before planning a...|[before, planning...|[planning, awesom...|[-0.0882766588280...|[-2.2598177012433...|        57|\n",
            "|80117401|  Movie|Jandino: Whatever...|             unknown|    Jandino Asporaat|      United Kingdom|  9-Sep-16|        2016|   TV-MA|  94 min|     Stand-Up Comedy|\"Jandino Asporaat...|[jandino, asporaa...|[jandino, asporaa...|[-0.0256702997056...|[-0.6571408392793...|       185|\n",
            "|70234439|TV Show|  Transformers Prime|             unknown|Peter Cullen, Sum...|       United States|  8-Sep-18|        2013|TV-Y7-FV|1 Season|            Kids' TV|With the help of ...|[with, the, help,...|[help, three, hum...|[-0.0628436724655...|[-1.6087519094414...|       189|\n",
            "|80058654|TV Show|Transformers: Rob...|             unknown|Will Friedle, Dar...|       United States|  8-Sep-18|        2016|   TV-Y7|1 Season|            Kids' TV|When a prison shi...|[when, a, prison,...|[prison, ship, cr...|[-0.0825963596414...|[-2.1144062094546...|        95|\n",
            "|80125979|  Movie|        #realityhigh|    Fernando Lebrija|Nesta Cooper, Kat...|       United States|  8-Sep-17|        2017|   TV-14|  99 min|            Comedies|When nerdy high s...|[when, nerdy, hig...|[nerdy, high, sch...|[-0.0723291203030...|[-1.8515724150200...|       156|\n",
            "|80163890|TV Show|             Apaches|             unknown|Alberto Ammann, E...|               Spain|  8-Sep-17|        2016|   TV-MA|1 Season|Crime TV Shows, I...|A young journalis...|[a, young, journa...|[young, journalis...|[-0.1320756409051...|[-3.3810395090029...|        90|\n",
            "|70304989|  Movie|            Automata|         Gabe Ibáñez|Antonio Banderas,...|Bulgaria, United ...|  8-Sep-17|        2014|       R| 110 min|International Mov...|In a dystopian fu...|[in, a, dystopian...|[dystopian, futur...|[-0.0763305250023...|[-1.9540054396643...|       132|\n",
            "|80164077|  Movie|Fabrizio Copano: ...|Rodrigo Toro, Fra...|     Fabrizio Copano|               Chile|  8-Sep-17|        2017|   TV-MA|  60 min|     Stand-Up Comedy|Fabrizio Copano t...|[fabrizio, copano...|[fabrizio, copano...|[-0.0891583532094...|[-2.2823884305472...|        26|\n",
            "|80117902|TV Show|        Fire Chasers|             unknown|             unknown|       United States|  8-Sep-17|        2017|   TV-MA|1 Season|Docuseries, Scien...|As California's 2...|[as, california, ...|[california, 2016...|[-0.0464824216178...|[-1.1899158912804...|       185|\n",
            "|70304990|  Movie|         Good People|   Henrik Ruben Genz|James Franco, Kat...|United States, Un...|  8-Sep-17|        2014|       R|  90 min|Action & Adventur...|A struggling coup...|[a, struggling, c...|[struggling, coup...|[-0.0768636526031...|[-1.9676531151143...|       116|\n",
            "|80169755|  Movie|Joaquín Reyes: Un...|José Miguel Contr...|       Joaquín Reyes|             unknown|  8-Sep-17|        2017|   TV-MA|  78 min|     Stand-Up Comedy|Comedian and cele...|[comedian, and, c...|[comedian, celebr...|[-0.0453797966591...|[-1.1616895012850...|       123|\n",
            "|70299204|  Movie|Kidnapping Mr. He...|    Daniel Alfredson|Jim Sturgess, Sam...|Netherlands, Belg...|  8-Sep-17|        2015|       R|  95 min|Action & Adventur...|\"When beer magnat...|[when, beer, magn...|[beer, magnate, a...|[-4.6930286603478...|[-0.0120138090633...|       163|\n",
            "|80182480|  Movie|Krish Trish and B...|             unknown|Damandeep Singh B...|             unknown|  8-Sep-17|        2009|   TV-Y7|  58 min|Children & Family...|A team of minstre...|[a, team, of, min...|[team, minstrels,...|[-0.0240019383804...|[-0.6144320133584...|        88|\n",
            "|80182483|  Movie|Krish Trish and B...|Munjal Shroff, Ti...|Damandeep Singh B...|             unknown|  8-Sep-17|        2013|   TV-Y7|  62 min|Children & Family...|An artisan is che...|[an, artisan, is,...|[artisan, cheated...|[-0.1022796779500...|[-2.6182847173588...|        65|\n",
            "|80182596|  Movie|Krish Trish and B...|Munjal Shroff, Ti...|Damandeep Singh B...|             unknown|  8-Sep-17|        2016|    TV-Y|  65 min|Children & Family...|A cat, monkey and...|[a, cat, monkey, ...|[cat, monkey, don...|[-0.0770644420901...|[-1.9727931786690...|        87|\n",
            "|80182482|  Movie|Krish Trish and B...|        Tilak Shetty|Damandeep Singh B...|             unknown|  8-Sep-17|        2012|   TV-Y7|  61 min|Children & Family...|In three comic-st...|[in, three, comic...|[three, comic, st...|[-0.1005457988118...|[-2.5738986834924...|        92|\n",
            "|80182597|  Movie|Krish Trish and B...|        Tilak Shetty|Rishi Gambhir, Sm...|             unknown|  8-Sep-17|        2017|   TV-Y7|  65 min|Children & Family...|A cat, monkey and...|[a, cat, monkey, ...|[cat, monkey, don...|[-0.0194906712769...|[-0.4989468852296...|        71|\n",
            "|80182481|  Movie|Krish Trish and B...|             unknown|Damandeep Singh B...|             unknown|  8-Sep-17|        2010|   TV-Y7|  58 min|Children & Family...|Animal minstrels ...|[animal, minstrel...|[animal, minstrel...|[-0.0739494960155...|[-1.8930528444599...|         3|\n",
            "|80182621|  Movie|Krish Trish and B...|Munjal Shroff, Ti...|Damandeep Singh B...|             unknown|  8-Sep-17|        2013|   TV-Y7|  60 min|Children & Family...|The consequences ...|[the, consequence...|[consequences, tr...|[-0.0995101295120...|[-2.5473863092435...|       149|\n",
            "|80057969|  Movie|                Love|          Gaspar Noé|Karl Glusman, Kla...|     France, Belgium|  8-Sep-17|        2015|      NR| 135 min|Cult Movies, Dram...|A man in an unsat...|[a, man, in, an, ...|[man, unsatisfyin...|[-0.1644930180960...|[-4.2109005818674...|        35|\n",
            "+--------+-------+--------------------+--------------------+--------------------+--------------------+----------+------------+--------+--------+--------------------+--------------------+--------------------+--------------------+--------------------+--------------------+----------+\n",
            "only showing top 20 rows\n",
            "\n"
          ],
          "name": "stdout"
        }
      ]
    },
    {
      "cell_type": "code",
      "metadata": {
        "id": "T9Uf3NesHRjh"
      },
      "source": [
        "recomm=df_word.select(\"title\",\"words2\")"
      ],
      "execution_count": null,
      "outputs": []
    },
    {
      "cell_type": "code",
      "metadata": {
        "colab": {
          "base_uri": "https://localhost:8080/"
        },
        "id": "_UG4IqLX0xLf",
        "outputId": "59494f16-ee36-45fd-ce35-7c960ebb723d"
      },
      "source": [
        "recomm.show()"
      ],
      "execution_count": null,
      "outputs": [
        {
          "output_type": "stream",
          "text": [
            "+--------------------+--------------------+\n",
            "|               title|              words2|\n",
            "+--------------------+--------------------+\n",
            "|Norm of the North...|[planning, awesom...|\n",
            "|Jandino: Whatever...|[jandino, asporaa...|\n",
            "|  Transformers Prime|[help, three, hum...|\n",
            "|Transformers: Rob...|[prison, ship, cr...|\n",
            "|        #realityhigh|[nerdy, high, sch...|\n",
            "|             Apaches|[young, journalis...|\n",
            "|            Automata|[dystopian, futur...|\n",
            "|Fabrizio Copano: ...|[fabrizio, copano...|\n",
            "|        Fire Chasers|[california, 2016...|\n",
            "|         Good People|[struggling, coup...|\n",
            "|Joaquín Reyes: Un...|[comedian, celebr...|\n",
            "|Kidnapping Mr. He...|[beer, magnate, a...|\n",
            "|Krish Trish and B...|[team, minstrels,...|\n",
            "|Krish Trish and B...|[artisan, cheated...|\n",
            "|Krish Trish and B...|[cat, monkey, don...|\n",
            "|Krish Trish and B...|[three, comic, st...|\n",
            "|Krish Trish and B...|[cat, monkey, don...|\n",
            "|Krish Trish and B...|[animal, minstrel...|\n",
            "|Krish Trish and B...|[consequences, tr...|\n",
            "|                Love|[man, unsatisfyin...|\n",
            "+--------------------+--------------------+\n",
            "only showing top 20 rows\n",
            "\n"
          ],
          "name": "stdout"
        }
      ]
    },
    {
      "cell_type": "code",
      "metadata": {
        "id": "zzliy-MiLddj"
      },
      "source": [
        "from pyspark.ml.feature import HashingTF, IDF\n",
        "hashingTF = HashingTF(inputCol=\"words2\", outputCol=\"tf\")\n",
        "tf = hashingTF.transform(recomm)\n",
        "\n",
        "idf = IDF(inputCol=\"tf\", outputCol=\"feature\").fit(tf)\n",
        "tfidf = idf.transform(tf)"
      ],
      "execution_count": null,
      "outputs": []
    },
    {
      "cell_type": "code",
      "metadata": {
        "id": "RiyT4KicLtud"
      },
      "source": [
        "from pyspark.ml.feature import Normalizer\n",
        "normalizer = Normalizer(inputCol=\"feature\", outputCol=\"norm\")\n",
        "data = normalizer.transform(tfidf)"
      ],
      "execution_count": null,
      "outputs": []
    },
    {
      "cell_type": "code",
      "metadata": {
        "colab": {
          "base_uri": "https://localhost:8080/"
        },
        "id": "I2whh42HM4o6",
        "outputId": "173edf9e-664a-482a-f7da-73d004f825a0"
      },
      "source": [
        "data.show(truncate=False)"
      ],
      "execution_count": null,
      "outputs": [
        {
          "output_type": "stream",
          "text": [
            "+--------------------------------------------------+----------------------------------------------------------------------------------------------------------------------------------------+-----------------------------------------------------------------------------------------------------------------------------------------------------------------------------------------------+--------------------------------------------------------------------------------------------------------------------------------------------------------------------------------------------------------------------------------------------------------------------------------------------------------------------------------------------------------------------------------------------------------------------------------------------+--------------------------------------------------------------------------------------------------------------------------------------------------------------------------------------------------------------------------------------------------------------------------------------------------------------------------------------------------------------------------------------------------------------------------------------------------------------------+\n",
            "|title                                             |words2                                                                                                                                  |tf                                                                                                                                                                                             |feature                                                                                                                                                                                                                                                                                                                                                                                                                                     |norm                                                                                                                                                                                                                                                                                                                                                                                                                                                                |\n",
            "+--------------------------------------------------+----------------------------------------------------------------------------------------------------------------------------------------+-----------------------------------------------------------------------------------------------------------------------------------------------------------------------------------------------+--------------------------------------------------------------------------------------------------------------------------------------------------------------------------------------------------------------------------------------------------------------------------------------------------------------------------------------------------------------------------------------------------------------------------------------------+--------------------------------------------------------------------------------------------------------------------------------------------------------------------------------------------------------------------------------------------------------------------------------------------------------------------------------------------------------------------------------------------------------------------------------------------------------------------+\n",
            "|Norm of the North: King Sized Adventure           |[planning, awesome, wedding, grandfather, polar, bear, king, must, take, back, stolen, artifact, evil, archaeologist, first]            |(262144,[3076,6213,55639,65531,71949,97956,132270,135891,153124,187722,188835,192378,206910,219897,229407],[1.0,1.0,1.0,1.0,1.0,1.0,1.0,1.0,1.0,1.0,1.0,1.0,1.0,1.0,1.0])                      |(262144,[3076,6213,55639,65531,71949,97956,132270,135891,153124,187722,188835,192378,206910,219897,229407],[7.351639496994246,5.0490544040002,3.5731478841906226,5.8475621002179725,6.098876528498878,4.122813341272877,3.6690296558939055,6.540709280777918,6.253027208326136,5.793494878947696,4.019434986819042,6.946174388886082,4.931271368343817,7.351639496994246,3.0374902847234506])                                               |(262144,[3076,6213,55639,65531,71949,97956,132270,135891,153124,187722,188835,192378,206910,219897,229407],[0.3421781333172538,0.23500554014984232,0.16631025957934006,0.2721716543265467,0.28386895014471253,0.19189414466106638,0.17077302542551553,0.30443381958303023,0.29104381119365846,0.2696551243939408,0.18708245437526203,0.323305976450142,0.22952339167210226,0.3421781333172538,0.1413783627476446])                                                  |\n",
            "|Jandino: Whatever it Takes                        |[jandino, asporaat, riffs, challenges, raising, kids, serenades, audience, rousing, rendition, sex, fire, comedy, show]                 |(262144,[11568,20450,73288,82062,91799,105862,125533,159540,177994,182804,212560,245731,256024,258646],[1.0,1.0,1.0,1.0,1.0,1.0,1.0,1.0,1.0,1.0,1.0,1.0,1.0,1.0])                              |(262144,[11568,20450,73288,82062,91799,105862,125533,159540,177994,182804,212560,245731,256024,258646],[7.639321569446027,5.904720514057921,3.733987552168678,6.098876528498878,5.693411420390714,8.04478667755419,8.04478667755419,7.351639496994246,4.767641944562015,4.563546588218499,5.965345135874355,3.817952932286012,8.04478667755419,4.503827353516877])                                                                          |(262144,[11568,20450,73288,82062,91799,105862,125533,159540,177994,182804,212560,245731,256024,258646],[0.32905370714000287,0.25433805307364205,0.16083659200444253,0.26270106747675975,0.2452361923924938,0.3465185822242688,0.3465185822242688,0.31666218106567345,0.2053598924869014,0.19656875403247398,0.2569493787484827,0.16445329007741447,0.3465185822242688,0.19399642671420433])                                                                         |\n",
            "|Transformers Prime                                |[help, three, human, allies, autobots, protect, earth, onslaught, decepticons, leader, megatron]                                        |(262144,[24502,30615,54167,68723,96005,115996,120806,134303,196648,239859,243207],[1.0,1.0,1.0,1.0,1.0,1.0,1.0,1.0,1.0,1.0,1.0])                                                               |(262144,[24502,30615,54167,68723,96005,115996,120806,134303,196648,239859,243207],[8.04478667755419,8.04478667755419,6.253027208326136,4.931271368343817,3.344306311761775,4.355907223440255,4.976733742420574,4.503827353516877,7.351639496994246,3.3580365045736773,7.639321569446027])                                                                                                                                                   |(262144,[24502,30615,54167,68723,96005,115996,120806,134303,196648,239859,243207],[0.4064538206836926,0.4064538206836926,0.31592718384372875,0.2491469530303085,0.16896732411124962,0.22007732516398484,0.2514438884720407,0.2275508237706565,0.37143333709265075,0.16966102669788155,0.38596815102581256])                                                                                                                                                         |\n",
            "|Transformers: Robots in Disguise                  |[prison, ship, crash, unleashes, hundreds, decepticons, earth, bumblebee, leads, new, autobot, force, protect, humankind]               |(262144,[3280,56103,60294,62606,68723,89833,109944,115996,126680,132825,178881,198422,243207,244324],[1.0,1.0,1.0,1.0,1.0,1.0,1.0,1.0,1.0,1.0,1.0,1.0,1.0,1.0])                                |(262144,[3280,56103,60294,62606,68723,89833,109944,115996,126680,132825,178881,198422,243207,244324],[4.5947991317226045,4.953744224195876,7.1284959456800365,6.1729845006526,4.931271368343817,2.5662332607032217,4.407200517827806,4.355907223440255,6.792023709058824,6.540709280777918,8.04478667755419,6.340038585315766,7.639321569446027,5.742201584560146])                                                                         |(262144,[3280,56103,60294,62606,68723,89833,109944,115996,126680,132825,178881,198422,243207,244324],[0.20777708472473214,0.22400860274157852,0.32235100242786613,0.27914271915423233,0.2229923788892359,0.11604521772264262,0.19929386446285996,0.19697437869901172,0.30713570826336234,0.295771255158773,0.3637857227651896,0.2866969146060057,0.3454505669280881,0.25966269056343894])                                                                           |\n",
            "|#realityhigh                                      |[nerdy, high, schooler, dani, finally, attracts, interest, longtime, crush, lands, cross, hairs, ex, social, media, celebrity]          |(262144,[3657,7625,34089,36647,59676,66897,71895,110911,136020,139030,164589,173832,181561,191598,218396,222457],[1.0,1.0,1.0,1.0,1.0,1.0,1.0,1.0,1.0,1.0,1.0,1.0,1.0,1.0,1.0,1.0])            |(262144,[3657,7625,34089,36647,59676,66897,71895,110911,136020,139030,164589,173832,181561,191598,218396,222457],[5.182585796624723,5.602439642184987,5.742201584560146,8.04478667755419,5.742201584560146,5.559880027766191,4.475253981072822,6.792023709058824,3.405215064848768,6.1729845006526,4.205334364960881,7.351639496994246,4.976733742420574,5.519058033245936,5.4798373200926545,7.639321569446027])                           |(262144,[3657,7625,34089,36647,59676,66897,71895,110911,136020,139030,164589,173832,181561,191598,218396,222457],[0.22077936217099292,0.2386652337928778,0.24461912509429387,0.34270978642145317,0.24461912509429387,0.23685218430477384,0.19064686206216602,0.2893417921441604,0.14506295497548635,0.2629705776666746,0.179148223540553,0.31318155506746137,0.2120100167105898,0.23511315782911002,0.23344234631268274,0.3254368783667493])                        |\n",
            "|Apaches                                           |[young, journalist, forced, life, crime, save, father, family, series, based, novel, miguel, ez, carral]                                |(262144,[5538,19263,33803,36225,134741,136131,137819,171368,172517,195421,199496,220850,221017,250858],[1.0,1.0,1.0,1.0,1.0,1.0,1.0,1.0,1.0,1.0,1.0,1.0,1.0,1.0])                              |(262144,[5538,19263,33803,36225,134741,136131,137819,171368,172517,195421,199496,220850,221017,250858],[7.1284959456800365,3.064610590942644,3.9176522925091,2.5035231323957654,5.100347698387751,8.04478667755419,5.793494878947696,3.3534387953250477,2.3561178407080385,6.792023709058824,3.7612001156935624,4.055802630989917,2.7120678842888224,4.51842615293803])                                                                     |(262144,[5538,19263,33803,36225,134741,136131,137819,171368,172517,195421,199496,220850,221017,250858],[0.39395638487863677,0.16936572857282756,0.21650908496394672,0.1383572257337643,0.28187075593394784,0.44459519943049186,0.32017754035566015,0.1853278215748493,0.13021087112154492,0.3753612440577105,0.20786275417350916,0.22414396451390917,0.1498824530983095,0.24971085711724286])                                                                       |\n",
            "|Automata                                          |[dystopian, future, insurance, adjuster, tech, company, investigates, robot, killed, violating, protocol, discovers, global, conspiracy]|(262144,[29439,47181,58637,87181,87762,140232,141425,149982,195155,226102,228428,231240,236002,252968],[1.0,1.0,1.0,1.0,1.0,1.0,1.0,1.0,1.0,1.0,1.0,1.0,1.0,1.0])                              |(262144,[29439,47181,58637,87181,87762,140232,141425,149982,195155,226102,228428,231240,236002,252968],[5.182585796624723,5.8475621002179725,5.303946653628991,7.639321569446027,4.694882590279587,6.340038585315766,5.241426296647656,4.866732847206246,5.4798373200926545,6.792023709058824,5.442096992109808,8.04478667755419,7.639321569446027,4.355907223440255])                                                                      |(262144,[29439,47181,58637,87181,87762,140232,141425,149982,195155,226102,228428,231240,236002,252968],[0.22976638061458154,0.25924764816457396,0.23514683082928226,0.3386840732102632,0.20814439403617727,0.2810812547770116,0.23237503375692342,0.21576325710785862,0.24294482268183643,0.3011197047032456,0.24127163117008696,0.3566600902047502,0.3386840732102632,0.1931161540392827])                                                                         |\n",
            "|Fabrizio Copano: Solo pienso en mi                |[fabrizio, copano, takes, audience, participation, next, level, stand, set, reflecting, sperm, banks, family, whatsapp, groups]         |(262144,[23029,49574,54961,117244,130476,135594,142247,160395,185873,197488,209518,212560,221017,229979,261312],[1.0,1.0,1.0,1.0,1.0,1.0,1.0,1.0,1.0,1.0,1.0,1.0,1.0,1.0,1.0])                 |(262144,[23029,49574,54961,117244,130476,135594,142247,160395,185873,197488,209518,212560,221017,229979,261312],[8.04478667755419,3.8627365349129854,4.953744224195876,6.540709280777918,3.5284477052727157,8.04478667755419,8.04478667755419,7.351639496994246,8.04478667755419,8.04478667755419,4.132763672126045,5.965345135874355,2.7120678842888224,5.742201584560146,7.639321569446027])                                              |(262144,[23029,49574,54961,117244,130476,135594,142247,160395,185873,197488,209518,212560,221017,229979,261312],[0.32213098998287343,0.15467248466715508,0.1983588372224317,0.26190441589779073,0.14128682312653423,0.32213098998287343,0.32213098998287343,0.29437584911623005,0.32213098998287343,0.32213098998287343,0.16548496640459867,0.23886556738294326,0.10859717572179595,0.22993040776041437,0.3058952733736538])                                        |\n",
            "|Fire Chasers                                      |[california, 2016, fire, season, rages, brave, backcountry, firefighters, race, put, flames, protect, homes, save, lives, docuseries]   |(262144,[55270,64489,68723,77751,91799,94127,106390,129728,142486,169800,170047,199496,207112,211499,227061,227686],[1.0,1.0,1.0,1.0,1.0,1.0,1.0,1.0,1.0,1.0,1.0,1.0,1.0,1.0,1.0,1.0])         |(262144,[55270,64489,68723,77751,91799,94127,106390,129728,142486,169800,170047,199496,207112,211499,227061,227686],[5.8475621002179725,3.4496668274196014,4.931271368343817,5.000264239830768,5.693411420390714,5.904720514057921,7.639321569446027,8.04478667755419,5.742201584560146,6.946174388886082,8.04478667755419,3.7612001156935624,5.8475621002179725,6.098876528498878,7.351639496994246,4.976733742420574])                    |(262144,[55270,64489,68723,77751,91799,94127,106390,129728,142486,169800,170047,199496,207112,211499,227061,227686],[0.2395124273661533,0.14129616090934155,0.20198174131219804,0.2048076454817638,0.2331985134866935,0.24185359967156497,0.31290175652182056,0.3295093496676285,0.2351969276038139,0.2845108885168909,0.3295093496676285,0.1540563664105494,0.2395124273661533,0.2498061066325014,0.30111848166269883,0.2038438512620088])                         |\n",
            "|Good People                                       |[struggling, couple, believe, luck, find, stash, money, apartment, neighbor, recently, murdered]                                        |(262144,[13020,15173,64881,91878,92726,111593,134711,182573,225157,227866,231746],[1.0,1.0,1.0,1.0,1.0,1.0,1.0,1.0,1.0,1.0,1.0])                                                               |(262144,[13020,15173,64881,91878,92726,111593,134711,182573,225157,227866,231746],[5.559880027766191,4.660396414208417,6.098876528498878,3.2783483439699777,4.216145281065097,7.1284959456800365,4.7489498115498625,5.646891404755821,6.1729845006526,5.336736476451981,5.904720514057921])                                                                                                                                                 |(262144,[13020,15173,64881,91878,92726,111593,134711,182573,225157,227866,231746],[0.30837871924990923,0.2584888649095322,0.33827415759498974,0.1818335752785486,0.23384847792637997,0.39538199366330357,0.2634004786711613,0.31320480486007185,0.34238455591740724,0.2960020632394378,0.32750529517908167])                                                                                                                                                        |\n",
            "|Joaquín Reyes: Una y no más                       |[comedian, celebrity, impersonator, joaqu, n, reyes, decides, zesty, self, night, stories, buses, bathroom, habits, royalty]            |(262144,[6116,41660,41663,48648,51930,52644,54800,84028,88226,93550,180649,181561,189558,189957,201615],[1.0,1.0,1.0,1.0,1.0,1.0,1.0,1.0,1.0,1.0,1.0,1.0,1.0,1.0,1.0])                         |(262144,[6116,41660,41663,48648,51930,52644,54800,84028,88226,93550,180649,181561,189558,189957,201615],[8.04478667755419,7.1284959456800365,7.1284959456800365,4.433868764909967,5.024361791409829,5.3706380281276624,6.658492316434301,4.010546039401796,7.639321569446027,7.639321569446027,8.04478667755419,4.976733742420574,8.04478667755419,4.283586561860629,4.132763672126045])                                                    |(262144,[6116,41660,41663,48648,51930,52644,54800,84028,88226,93550,180649,181561,189558,189957,201615],[0.32656304861358615,0.2893679424149256,0.2893679424149256,0.17998459860488963,0.20395455711937496,0.2180109924305217,0.2702890253251563,0.16280060537669513,0.3101039519193659,0.3101039519193659,0.32656304861358615,0.202021185670155,0.32656304861358615,0.17388417402594006,0.16776180128362012])                                                      |\n",
            "|Kidnapping Mr. Heineken                           |[beer, magnate, alfred, freddy, heineken, kidnapped, 1983, abductors, make, largest, ransom, demand, history]                           |(262144,[1857,20131,29138,30338,63331,65046,87567,89717,95612,127009,145664,209741,221410],[1.0,1.0,1.0,1.0,1.0,1.0,1.0,1.0,1.0,1.0,1.0,1.0,1.0])                                              |(262144,[1857,20131,29138,30338,63331,65046,87567,89717,95612,127009,145664,209741,221410],[7.639321569446027,7.1284959456800365,5.519058033245936,8.04478667755419,6.658492316434301,7.351639496994246,4.152966379443565,4.0935429589727645,8.04478667755419,6.946174388886082,7.351639496994246,7.351639496994246,7.351639496994246])                                                                                                     |(262144,[1857,20131,29138,30338,63331,65046,87567,89717,95612,127009,145664,209741,221410],[0.30883978574209286,0.2881883084137338,0.22312252272546437,0.3252317854734382,0.26918716821630845,0.2972094768448733,0.1678946533618004,0.16549230437315912,0.3252317854734382,0.280817477113528,0.2972094768448733,0.2972094768448733,0.2972094768448733])                                                                                                             |\n",
            "|Krish Trish and Baltiboy                          |[team, minstrels, including, monkey, cat, donkey, narrate, folktales, indian, regions, rajasthan, kerala, punjab]                       |(262144,[75326,82227,108625,132261,141363,142577,147975,168924,171474,184774,199461,224409,235700],[1.0,1.0,1.0,1.0,1.0,1.0,1.0,1.0,1.0,1.0,1.0,1.0,1.0])                                      |(262144,[75326,82227,108625,132261,141363,142577,147975,168924,171474,184774,199461,224409,235700],[4.712582167378987,6.435348765120091,6.340038585315766,7.351639496994246,5.519058033245936,6.435348765120091,7.1284959456800365,7.639321569446027,6.435348765120091,4.931271368343817,7.639321569446027,7.351639496994246,3.7681205585381363])                                                                                           |(262144,[75326,82227,108625,132261,141363,142577,147975,168924,171474,184774,199461,224409,235700],[0.20446072122367706,0.2792049036195698,0.2750697633905796,0.3189592160613531,0.23945059117778647,0.2792049036195698,0.30927788005114387,0.33144062899538523,0.2792049036195698,0.2139488001929117,0.33144062899538523,0.3189592160613531,0.1634841833399727])                                                                                                   |\n",
            "|Krish Trish and Baltiboy: Battle of Wits          |[artisan, cheated, payment, lion, throne, brother, inheritance, three, stories, deception, justice]                                     |(262144,[54410,54476,84028,96005,148375,198530,203982,212415,219528,249411,250507],[1.0,1.0,1.0,1.0,1.0,1.0,1.0,1.0,1.0,1.0,1.0])                                                              |(262144,[54410,54476,84028,96005,148375,198530,203982,212415,219528,249411,250507],[6.540709280777918,6.792023709058824,4.010546039401796,3.344306311761775,5.127015945469912,6.946174388886082,6.792023709058824,8.04478667755419,6.946174388886082,4.010546039401796,8.04478667755419])                                                                                                                                                   |(262144,[54410,54476,84028,96005,148375,198530,203982,212415,219528,249411,250507],[0.3151940243939317,0.32730476080457027,0.19326652384492624,0.16116071208180205,0.24706873820759712,0.3347332171159682,0.32730476080457027,0.3876748804202184,0.3347332171159682,0.19326652384492624,0.3876748804202184])                                                                                                                                                        |\n",
            "|Krish Trish and Baltiboy: Best Friends Forever    |[cat, monkey, donkey, team, narrate, folktales, friendship, northeast, india, indian, regions, bihar, rajasthan]                        |(262144,[7862,60825,75326,80536,82227,92748,108625,132261,141363,171474,199461,224409,235700],[1.0,1.0,1.0,1.0,1.0,1.0,1.0,1.0,1.0,1.0,1.0,1.0,1.0])                                           |(262144,[7862,60825,75326,80536,82227,92748,108625,132261,141363,171474,199461,224409,235700],[4.610799473069045,4.2492974883819965,4.712582167378987,7.639321569446027,6.435348765120091,8.04478667755419,6.340038585315766,7.351639496994246,5.519058033245936,6.435348765120091,7.639321569446027,7.351639496994246,3.7681205585381363])                                                                                                 |(262144,[7862,60825,75326,80536,82227,92748,108625,132261,141363,171474,199461,224409,235700],[0.20244294329346224,0.18657074451016495,0.20691184035411195,0.33541401058903225,0.28255207209514444,0.35321646553587077,0.27836735891511677,0.3227829677904747,0.24232117639981415,0.28255207209514444,0.33541401058903225,0.3227829677904747,0.16544406691521327])                                                                                                  |\n",
            "|Krish Trish and Baltiboy: Comics of India         |[three, comic, strip, style, tales, boy, tries, sell, wisdom, demon, released, captivity, king, assigns, impossible, tasks, minister]   |(262144,[37041,52713,58580,60392,69949,80669,96005,99836,113117,115698,119102,123445,134304,178275,205308,206910,235601],[1.0,1.0,1.0,1.0,1.0,1.0,1.0,1.0,1.0,1.0,1.0,1.0,1.0,1.0,1.0,1.0,1.0])|(262144,[37041,52713,58580,60392,69949,80669,96005,99836,113117,115698,119102,123445,134304,178275,205308,206910,235601],[5.965345135874355,7.351639496994246,6.946174388886082,6.098876528498878,3.9016519511626586,8.04478667755419,3.344306311761775,5.127015945469912,3.9421433125173957,7.639321569446027,4.152966379443565,6.1729845006526,5.904720514057921,6.658492316434301,6.340038585315766,4.931271368343817,5.405729347938933])|(262144,[37041,52713,58580,60392,69949,80669,96005,99836,113117,115698,119102,123445,134304,178275,205308,206910,235601],[0.24462129985100356,0.301469163783282,0.2848422294600412,0.25009703044004983,0.1599952978612898,0.32989309574942116,0.137140188614279,0.2102438796701482,0.16165572977624568,0.31326616142618036,0.17030096513067844,0.25313598092231865,0.24213526200173868,0.27304523181714274,0.259986378745903,0.2022169689374548,0.2216730984739106])|\n",
            "|Krish Trish and Baltiboy: Oversmartness Never Pays|[cat, monkey, donkey, learn, consequences, cheating, stories, indian, regions, rajasthan, west, bengal, maharashtra]                    |(262144,[59638,75326,82227,84028,108625,132261,141363,171474,172934,181087,204253,245456,256544],[1.0,1.0,1.0,1.0,1.0,1.0,1.0,1.0,1.0,1.0,1.0,1.0,1.0])                                        |(262144,[59638,75326,82227,84028,108625,132261,141363,171474,172934,181087,204253,245456,256544],[7.639321569446027,4.712582167378987,6.435348765120091,4.010546039401796,6.340038585315766,7.351639496994246,5.519058033245936,6.435348765120091,7.639321569446027,4.307117059270824,5.646891404755821,5.965345135874355,5.693411420390714])                                                                                               |(262144,[59638,75326,82227,84028,108625,132261,141363,171474,172934,181087,204253,245456,256544],[0.34833017244746245,0.21487962564652144,0.29343262025771744,0.18286888185211184,0.28908676165424896,0.33521273197893153,0.2516525085365033,0.29343262025771744,0.34833017244746245,0.1963916316872637,0.2574813272264603,0.27200186312335417,0.259602500542841])                                                                                                  |\n",
            "|Krish Trish and Baltiboy: Part II                 |[animal, minstrels, narrate, stories, monkey, friendship, crocodile, two, monkeys, foolishness, villager, encounter, demon]             |(262144,[7862,52819,82030,84028,87852,139731,168924,171474,203898,223600,224409,235601,258728],[1.0,1.0,1.0,1.0,1.0,1.0,1.0,1.0,1.0,1.0,1.0,1.0,1.0])                                          |(262144,[7862,52819,82030,84028,87852,139731,168924,171474,203898,223600,224409,235601,258728],[4.610799473069045,7.639321569446027,6.792023709058824,4.010546039401796,8.04478667755419,5.4798373200926545,7.639321569446027,6.435348765120091,7.639321569446027,5.100347698387751,7.351639496994246,5.405729347938933,2.8353005247127707])                                                                                                |(262144,[7862,52819,82030,84028,87852,139731,168924,171474,203898,223600,224409,235601,258728],[0.2037634787305532,0.33760191637559034,0.3001575728161137,0.17723668473779988,0.3555204967464227,0.24216857005849463,0.33760191637559034,0.28439515942609794,0.33760191637559034,0.2253979154437402,0.3248884812774962,0.23889354187826062,0.12529946304029727])                                                                                                    |\n",
            "|Krish Trish and Baltiboy: The Greatest Trick      |[consequences, trickery, explored, stories, involving, inconsiderate, husband, two, greedy, courtiers, kind, man, loses, everything]    |(262144,[62396,79132,84028,90852,109753,123940,159924,183729,201109,232152,250984,256544,258548,258728],[1.0,1.0,1.0,1.0,1.0,1.0,1.0,1.0,1.0,1.0,1.0,1.0,1.0,1.0])                             |(262144,[62396,79132,84028,90852,109753,123940,159924,183729,201109,232152,250984,256544,258548,258728],[6.946174388886082,5.693411420390714,4.010546039401796,5.559880027766191,2.769226298128771,4.548279116087711,8.04478667755419,5.602439642184987,6.340038585315766,7.351639496994246,4.205334364960881,5.693411420390714,8.04478667755419,2.8353005247127707])                                                                       |(262144,[62396,79132,84028,90852,109753,123940,159924,183729,201109,232152,250984,256544,258548,258728],[0.3206685161811317,0.26283500672060955,0.185145919974135,0.25667056120870063,0.12784068442213775,0.20997024170125464,0.3713856955582038,0.25863531585504995,0.2926863985645423,0.3393867180719883,0.19413827746898554,0.26283500672060955,0.3713856955582038,0.13089098563979906])                                                                         |\n",
            "|Love                                              |[man, unsatisfying, marriage, recalls, details, intense, past, relationship, ex, girlfriend, gets, word, may, missing]                  |(262144,[24031,54245,91192,91412,109753,121169,131803,159464,164589,168101,208892,236565,250555,255439],[1.0,1.0,1.0,1.0,1.0,1.0,1.0,1.0,1.0,1.0,1.0,1.0,1.0,1.0])                             |(262144,[24031,54245,91192,91412,109753,121169,131803,159464,164589,168101,208892,236565,250555,255439],[6.540709280777918,5.8475621002179725,4.433868764909967,4.489438616064778,2.769226298128771,4.503827353516877,4.660396414208417,3.993001729750887,4.205334364960881,8.04478667755419,5.646891404755821,4.227074351597286,3.855131935527766,7.1284959456800365])                                                                     |(262144,[24031,54245,91192,91412,109753,121169,131803,159464,164589,168101,208892,236565,250555,255439],[0.3354245123864942,0.2998781297128798,0.22738027400581082,0.2302300398992088,0.14201309687735042,0.23096793162265103,0.2389971985695264,0.20477147059513148,0.2156604380712369,0.41255749686080573,0.28958721671152327,0.21677532089262075,0.19770115046394587,0.3655677349329376])                                                                        |\n",
            "+--------------------------------------------------+----------------------------------------------------------------------------------------------------------------------------------------+-----------------------------------------------------------------------------------------------------------------------------------------------------------------------------------------------+--------------------------------------------------------------------------------------------------------------------------------------------------------------------------------------------------------------------------------------------------------------------------------------------------------------------------------------------------------------------------------------------------------------------------------------------+--------------------------------------------------------------------------------------------------------------------------------------------------------------------------------------------------------------------------------------------------------------------------------------------------------------------------------------------------------------------------------------------------------------------------------------------------------------------+\n",
            "only showing top 20 rows\n",
            "\n"
          ],
          "name": "stdout"
        }
      ]
    },
    {
      "cell_type": "code",
      "metadata": {
        "colab": {
          "base_uri": "https://localhost:8080/"
        },
        "id": "0xGEHTe0LxDj",
        "outputId": "85772af8-45e2-4660-b1cd-e6f8afed5168"
      },
      "source": [
        "from pyspark.sql.types import DoubleType\n",
        "import pyspark.sql.functions as psf\n",
        "dot_udf = psf.udf(lambda x,y: float(x.dot(y)), DoubleType())\n",
        "sim_recomm=data.alias(\"i\").join(data.alias(\"j\"), psf.col(\"i.title\") < psf.col(\"j.title\"))\\\n",
        "    .select(\n",
        "        psf.col(\"i.title\").alias(\"i\"), \n",
        "        psf.col(\"j.title\").alias(\"j\"), \n",
        "        dot_udf(\"i.norm\", \"j.norm\").alias(\"similar_score\"))\\\n",
        "    .sort(\"i\", \"j\")\n",
        "sim_recomm.show(truncate=False)"
      ],
      "execution_count": null,
      "outputs": [
        {
          "output_type": "stream",
          "text": [
            "+---------------------------------------------------+------------------------------------------------+--------------------+\n",
            "|i                                                  |j                                               |similar_score       |\n",
            "+---------------------------------------------------+------------------------------------------------+--------------------+\n",
            "|\"Behind \"\"The Cove\"\": The Quiet Japanese Speak Out\"|\"Escape from the \"\"Liberty\"\" Cinema\"            |0.0                 |\n",
            "|\"Behind \"\"The Cove\"\": The Quiet Japanese Speak Out\"|\"Gabriel \"\"Fluffy\"\" Iglesias: One Show Fits All\"|0.0                 |\n",
            "|\"Behind \"\"The Cove\"\": The Quiet Japanese Speak Out\"|#Roxy                                           |0.0                 |\n",
            "|\"Behind \"\"The Cove\"\": The Quiet Japanese Speak Out\"|#Rucker50                                       |0.021255304712596564|\n",
            "|\"Behind \"\"The Cove\"\": The Quiet Japanese Speak Out\"|#Selfie                                         |0.0                 |\n",
            "|\"Behind \"\"The Cove\"\": The Quiet Japanese Speak Out\"|#Selfie 69                                      |0.0                 |\n",
            "|\"Behind \"\"The Cove\"\": The Quiet Japanese Speak Out\"|#realityhigh                                    |0.0                 |\n",
            "|\"Behind \"\"The Cove\"\": The Quiet Japanese Speak Out\"|'89                                             |0.031379366621137356|\n",
            "|\"Behind \"\"The Cove\"\": The Quiet Japanese Speak Out\"|(T)ERROR                                        |0.0                 |\n",
            "|\"Behind \"\"The Cove\"\": The Quiet Japanese Speak Out\"|1 Chance 2 Dance                                |0.0                 |\n",
            "|\"Behind \"\"The Cove\"\": The Quiet Japanese Speak Out\"|1 Mile to You                                   |0.0                 |\n",
            "|\"Behind \"\"The Cove\"\": The Quiet Japanese Speak Out\"|1-Oct                                           |0.0                 |\n",
            "|\"Behind \"\"The Cove\"\": The Quiet Japanese Speak Out\"|10 Days in Sun City                             |0.0                 |\n",
            "|\"Behind \"\"The Cove\"\": The Quiet Japanese Speak Out\"|10 jours en or                                  |0.0                 |\n",
            "|\"Behind \"\"The Cove\"\": The Quiet Japanese Speak Out\"|10,000 B.C.                                     |0.0                 |\n",
            "|\"Behind \"\"The Cove\"\": The Quiet Japanese Speak Out\"|100 Days Of Solitude                            |0.0                 |\n",
            "|\"Behind \"\"The Cove\"\": The Quiet Japanese Speak Out\"|100 Meters                                      |0.0                 |\n",
            "|\"Behind \"\"The Cove\"\": The Quiet Japanese Speak Out\"|100 Things to do Before High School             |0.0                 |\n",
            "|\"Behind \"\"The Cove\"\": The Quiet Japanese Speak Out\"|100 Years: One Woman's Fight for Justice        |0.020544630292878008|\n",
            "|\"Behind \"\"The Cove\"\": The Quiet Japanese Speak Out\"|100% Hotter                                     |0.0                 |\n",
            "+---------------------------------------------------+------------------------------------------------+--------------------+\n",
            "only showing top 20 rows\n",
            "\n"
          ],
          "name": "stdout"
        }
      ]
    },
    {
      "cell_type": "code",
      "metadata": {
        "id": "HDZkPm3uXn4x",
        "colab": {
          "base_uri": "https://localhost:8080/"
        },
        "outputId": "4fc4eaf9-844e-461d-dfab-c9b2bb1956f7"
      },
      "source": [
        "sim_recomm.where(sim_recomm.i==\"#realityhigh\").sort(desc(\"similar_score\")).show(truncate=False,n=5)"
      ],
      "execution_count": null,
      "outputs": [
        {
          "output_type": "stream",
          "text": [
            "+------------+-------------------------------+-------------------+\n",
            "|i           |j                              |similar_score      |\n",
            "+------------+-------------------------------+-------------------+\n",
            "|#realityhigh|Follow Me                      |0.1464723723783308 |\n",
            "|#realityhigh|Deadcon                        |0.12766177965085998|\n",
            "|#realityhigh|Servant of the People          |0.12751544239467974|\n",
            "|#realityhigh|How to Sell Drugs Online (Fast)|0.12657008519661497|\n",
            "|#realityhigh|The World Is Yours             |0.12637306359157488|\n",
            "+------------+-------------------------------+-------------------+\n",
            "only showing top 5 rows\n",
            "\n"
          ],
          "name": "stdout"
        }
      ]
    },
    {
      "cell_type": "code",
      "metadata": {
        "colab": {
          "base_uri": "https://localhost:8080/"
        },
        "id": "mG9WGvyP5Z-S",
        "outputId": "04553d6b-b345-4978-8a7b-e1477d7dd9d3"
      },
      "source": [
        "sim_recomm.count()"
      ],
      "execution_count": null,
      "outputs": [
        {
          "output_type": "execute_result",
          "data": {
            "text/plain": [
              "19428194"
            ]
          },
          "metadata": {
            "tags": []
          },
          "execution_count": 83
        }
      ]
    },
    {
      "cell_type": "code",
      "metadata": {
        "colab": {
          "base_uri": "https://localhost:8080/"
        },
        "id": "lugetGtg7-Qu",
        "outputId": "1aee6369-74ac-4391-925e-2235cea20651"
      },
      "source": [
        "from pyspark.sql.functions import monotonically_increasing_id \n",
        "\n",
        "sim_recomm = sim_recomm.select(\"*\").withColumn(\"id\", monotonically_increasing_id())\n",
        "\n",
        "sim_recomm.show()"
      ],
      "execution_count": null,
      "outputs": [
        {
          "output_type": "stream",
          "text": [
            "+--------------------+--------------------+--------------------+---+\n",
            "|                   i|                   j|       similar_score| id|\n",
            "+--------------------+--------------------+--------------------+---+\n",
            "|\"Behind \"\"The Cov...|\"Escape from the ...|                 0.0|  0|\n",
            "|\"Behind \"\"The Cov...|\"Gabriel \"\"Fluffy...|                 0.0|  1|\n",
            "|\"Behind \"\"The Cov...|               #Roxy|                 0.0|  2|\n",
            "|\"Behind \"\"The Cov...|           #Rucker50|0.021255304712596564|  3|\n",
            "|\"Behind \"\"The Cov...|             #Selfie|                 0.0|  4|\n",
            "|\"Behind \"\"The Cov...|          #Selfie 69|                 0.0|  5|\n",
            "|\"Behind \"\"The Cov...|        #realityhigh|                 0.0|  6|\n",
            "|\"Behind \"\"The Cov...|                 '89|0.031379366621137356|  7|\n",
            "|\"Behind \"\"The Cov...|            (T)ERROR|                 0.0|  8|\n",
            "|\"Behind \"\"The Cov...|    1 Chance 2 Dance|                 0.0|  9|\n",
            "|\"Behind \"\"The Cov...|       1 Mile to You|                 0.0| 10|\n",
            "|\"Behind \"\"The Cov...|               1-Oct|                 0.0| 11|\n",
            "|\"Behind \"\"The Cov...| 10 Days in Sun City|                 0.0| 12|\n",
            "|\"Behind \"\"The Cov...|      10 jours en or|                 0.0| 13|\n",
            "|\"Behind \"\"The Cov...|         10,000 B.C.|                 0.0| 14|\n",
            "|\"Behind \"\"The Cov...|100 Days Of Solitude|                 0.0| 15|\n",
            "|\"Behind \"\"The Cov...|          100 Meters|                 0.0| 16|\n",
            "|\"Behind \"\"The Cov...|100 Things to do ...|                 0.0| 17|\n",
            "|\"Behind \"\"The Cov...|100 Years: One Wo...|0.020544630292878008| 18|\n",
            "|\"Behind \"\"The Cov...|         100% Hotter|                 0.0| 19|\n",
            "+--------------------+--------------------+--------------------+---+\n",
            "only showing top 20 rows\n",
            "\n"
          ],
          "name": "stdout"
        }
      ]
    },
    {
      "cell_type": "code",
      "metadata": {
        "colab": {
          "base_uri": "https://localhost:8080/"
        },
        "id": "7wzEPFpy8siw",
        "outputId": "1269db7f-7e15-43ad-b5e6-fce74915d7c4"
      },
      "source": [
        "from pyspark.sql.functions import col\n",
        "df1=sim_recomm.where(sim_recomm.id <=10000)\n",
        "df1.show()"
      ],
      "execution_count": null,
      "outputs": [
        {
          "output_type": "stream",
          "text": [
            "+--------------------+--------------------+--------------------+---+\n",
            "|                   i|                   j|       similar_score| id|\n",
            "+--------------------+--------------------+--------------------+---+\n",
            "|\"Behind \"\"The Cov...|\"Escape from the ...|                 0.0|  0|\n",
            "|\"Behind \"\"The Cov...|\"Gabriel \"\"Fluffy...|                 0.0|  1|\n",
            "|\"Behind \"\"The Cov...|               #Roxy|                 0.0|  2|\n",
            "|\"Behind \"\"The Cov...|           #Rucker50|0.021255304712596564|  3|\n",
            "|\"Behind \"\"The Cov...|             #Selfie|                 0.0|  4|\n",
            "|\"Behind \"\"The Cov...|          #Selfie 69|                 0.0|  5|\n",
            "|\"Behind \"\"The Cov...|        #realityhigh|                 0.0|  6|\n",
            "|\"Behind \"\"The Cov...|                 '89|0.031379366621137356|  7|\n",
            "|\"Behind \"\"The Cov...|            (T)ERROR|                 0.0|  8|\n",
            "|\"Behind \"\"The Cov...|    1 Chance 2 Dance|                 0.0|  9|\n",
            "|\"Behind \"\"The Cov...|       1 Mile to You|                 0.0| 10|\n",
            "|\"Behind \"\"The Cov...|               1-Oct|                 0.0| 11|\n",
            "|\"Behind \"\"The Cov...| 10 Days in Sun City|                 0.0| 12|\n",
            "|\"Behind \"\"The Cov...|      10 jours en or|                 0.0| 13|\n",
            "|\"Behind \"\"The Cov...|         10,000 B.C.|                 0.0| 14|\n",
            "|\"Behind \"\"The Cov...|100 Days Of Solitude|                 0.0| 15|\n",
            "|\"Behind \"\"The Cov...|          100 Meters|                 0.0| 16|\n",
            "|\"Behind \"\"The Cov...|100 Things to do ...|                 0.0| 17|\n",
            "|\"Behind \"\"The Cov...|100 Years: One Wo...|0.020544630292878008| 18|\n",
            "|\"Behind \"\"The Cov...|         100% Hotter|                 0.0| 19|\n",
            "+--------------------+--------------------+--------------------+---+\n",
            "only showing top 20 rows\n",
            "\n"
          ],
          "name": "stdout"
        }
      ]
    },
    {
      "cell_type": "code",
      "metadata": {
        "id": "4Fcw_RumcoVH"
      },
      "source": [
        "#sim_recomm.createOrReplaceTempView(\"dfTable\")\n",
        "\n",
        "#spark.sql(\"SELECT * FROM dfTable WHERE id between 0 and 10000\").show()"
      ],
      "execution_count": null,
      "outputs": []
    },
    {
      "cell_type": "code",
      "metadata": {
        "colab": {
          "base_uri": "https://localhost:8080/"
        },
        "id": "ubFwxrnyOL0R",
        "outputId": "4ae43923-a4d1-4def-d9b0-11c4cbb3ea64"
      },
      "source": [
        "df1.count()"
      ],
      "execution_count": null,
      "outputs": [
        {
          "output_type": "execute_result",
          "data": {
            "text/plain": [
              "10001"
            ]
          },
          "metadata": {
            "tags": []
          },
          "execution_count": 132
        }
      ]
    },
    {
      "cell_type": "code",
      "metadata": {
        "id": "oxSggDsscuFv"
      },
      "source": [
        "df1.toPandas().to_csv('test1.csv')"
      ],
      "execution_count": null,
      "outputs": []
    },
    {
      "cell_type": "code",
      "metadata": {
        "id": "zEwccRZHdEQV"
      },
      "source": [
        "recomm_test=pd.read_csv(\"test1.csv\")"
      ],
      "execution_count": null,
      "outputs": []
    },
    {
      "cell_type": "code",
      "metadata": {
        "colab": {
          "base_uri": "https://localhost:8080/"
        },
        "id": "3RhaxVlnIplh",
        "outputId": "ef846c07-ed86-46d2-a14c-6464ce7b39fc"
      },
      "source": [
        "recomm_test.i.unique()"
      ],
      "execution_count": null,
      "outputs": [
        {
          "output_type": "execute_result",
          "data": {
            "text/plain": [
              "array(['\"Behind \"\"The Cove\"\": The Quiet Japanese Speak Out\"',\n",
              "       '\"Escape from the \"\"Liberty\"\" Cinema\"'], dtype=object)"
            ]
          },
          "metadata": {
            "tags": []
          },
          "execution_count": 112
        }
      ]
    },
    {
      "cell_type": "code",
      "metadata": {
        "id": "PSp7p62ddVZZ"
      },
      "source": [
        "def recommdation(movie):\n",
        "  a = str(movie)\n",
        "  b = recomm_test.loc[recomm_test['i'] == a]\n",
        "  b = recomm_test.sort_values(by=['similar_score'], ascending=False)\n",
        "  return b.head(5)"
      ],
      "execution_count": null,
      "outputs": []
    },
    {
      "cell_type": "code",
      "metadata": {
        "colab": {
          "base_uri": "https://localhost:8080/",
          "height": 200
        },
        "id": "yL1kLGfigBDW",
        "outputId": "18126946-4b5a-4609-adc8-7c27fc780cd7"
      },
      "source": [
        "recommdation('\"Behind \"\"The Cove\"\": The Quiet Japanese Speak Out\"')"
      ],
      "execution_count": null,
      "outputs": [
        {
          "output_type": "execute_result",
          "data": {
            "text/html": [
              "<div>\n",
              "<style scoped>\n",
              "    .dataframe tbody tr th:only-of-type {\n",
              "        vertical-align: middle;\n",
              "    }\n",
              "\n",
              "    .dataframe tbody tr th {\n",
              "        vertical-align: top;\n",
              "    }\n",
              "\n",
              "    .dataframe thead th {\n",
              "        text-align: right;\n",
              "    }\n",
              "</style>\n",
              "<table border=\"1\" class=\"dataframe\">\n",
              "  <thead>\n",
              "    <tr style=\"text-align: right;\">\n",
              "      <th></th>\n",
              "      <th>Unnamed: 0</th>\n",
              "      <th>i</th>\n",
              "      <th>j</th>\n",
              "      <th>similar_score</th>\n",
              "      <th>id</th>\n",
              "    </tr>\n",
              "  </thead>\n",
              "  <tbody>\n",
              "    <tr>\n",
              "      <th>9870</th>\n",
              "      <td>9870</td>\n",
              "      <td>\"Escape from the \"\"Liberty\"\" Cinema\"</td>\n",
              "      <td>Nowhere Boy</td>\n",
              "      <td>0.151273</td>\n",
              "      <td>9870</td>\n",
              "    </tr>\n",
              "    <tr>\n",
              "      <th>2212</th>\n",
              "      <td>2212</td>\n",
              "      <td>\"Behind \"\"The Cove\"\": The Quiet Japanese Speak...</td>\n",
              "      <td>Hot Girls Wanted</td>\n",
              "      <td>0.143513</td>\n",
              "      <td>2212</td>\n",
              "    </tr>\n",
              "    <tr>\n",
              "      <th>5939</th>\n",
              "      <td>5939</td>\n",
              "      <td>\"Behind \"\"The Cove\"\": The Quiet Japanese Speak...</td>\n",
              "      <td>Virunga: Gorillas in Peril</td>\n",
              "      <td>0.138996</td>\n",
              "      <td>5939</td>\n",
              "    </tr>\n",
              "    <tr>\n",
              "      <th>363</th>\n",
              "      <td>363</td>\n",
              "      <td>\"Behind \"\"The Cove\"\": The Quiet Japanese Speak...</td>\n",
              "      <td>An American in Madras</td>\n",
              "      <td>0.137852</td>\n",
              "      <td>363</td>\n",
              "    </tr>\n",
              "    <tr>\n",
              "      <th>5869</th>\n",
              "      <td>5869</td>\n",
              "      <td>\"Behind \"\"The Cove\"\": The Quiet Japanese Speak...</td>\n",
              "      <td>Underdogs</td>\n",
              "      <td>0.135782</td>\n",
              "      <td>5869</td>\n",
              "    </tr>\n",
              "  </tbody>\n",
              "</table>\n",
              "</div>"
            ],
            "text/plain": [
              "      Unnamed: 0  ...    id\n",
              "9870        9870  ...  9870\n",
              "2212        2212  ...  2212\n",
              "5939        5939  ...  5939\n",
              "363          363  ...   363\n",
              "5869        5869  ...  5869\n",
              "\n",
              "[5 rows x 5 columns]"
            ]
          },
          "metadata": {
            "tags": []
          },
          "execution_count": 153
        }
      ]
    }
  ]
}